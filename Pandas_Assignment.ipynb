{
 "cells": [
  {
   "cell_type": "markdown",
   "id": "82c2f1ce-98a2-4161-a795-c3236c86ccc9",
   "metadata": {},
   "source": [
    "# Pandas Assignment\n"
   ]
  },
  {
   "cell_type": "markdown",
   "id": "7b7860d6-3d9c-4edc-bf9d-97eecb3a25b1",
   "metadata": {},
   "source": [
    "**Q1. How do you load a CSV file into a Pandas DataFrame?**\n",
    "<br>Ans. CSV files (comma separated files) are simple way to store big datasets. read_table() and read_csv are the important pandas function to read csv files and create data frame from it.\n",
    "<br>import pandas as pd\n",
    "<br>__Syntax 1 :__\n",
    "df = pd.read_csv(\"data.csv\")\n",
    "<br>__Syntax 2 :__\n",
    "ds = pd.read_table(\"data.csv\")"
   ]
  },
  {
   "cell_type": "code",
   "execution_count": 3,
   "id": "97c98cb4-0585-4de4-bd27-0ee0f80779c1",
   "metadata": {},
   "outputs": [
    {
     "data": {
      "text/html": [
       "<div>\n",
       "<style scoped>\n",
       "    .dataframe tbody tr th:only-of-type {\n",
       "        vertical-align: middle;\n",
       "    }\n",
       "\n",
       "    .dataframe tbody tr th {\n",
       "        vertical-align: top;\n",
       "    }\n",
       "\n",
       "    .dataframe thead th {\n",
       "        text-align: right;\n",
       "    }\n",
       "</style>\n",
       "<table border=\"1\" class=\"dataframe\">\n",
       "  <thead>\n",
       "    <tr style=\"text-align: right;\">\n",
       "      <th></th>\n",
       "      <th>PassengerId</th>\n",
       "      <th>Survived</th>\n",
       "      <th>Pclass</th>\n",
       "      <th>Name</th>\n",
       "      <th>Sex</th>\n",
       "      <th>Age</th>\n",
       "      <th>SibSp</th>\n",
       "      <th>Parch</th>\n",
       "      <th>Ticket</th>\n",
       "      <th>Fare</th>\n",
       "      <th>Cabin</th>\n",
       "      <th>Embarked</th>\n",
       "    </tr>\n",
       "  </thead>\n",
       "  <tbody>\n",
       "    <tr>\n",
       "      <th>0</th>\n",
       "      <td>1</td>\n",
       "      <td>0</td>\n",
       "      <td>3</td>\n",
       "      <td>Braund, Mr. Owen Harris</td>\n",
       "      <td>male</td>\n",
       "      <td>22.0</td>\n",
       "      <td>1</td>\n",
       "      <td>0</td>\n",
       "      <td>A/5 21171</td>\n",
       "      <td>7.2500</td>\n",
       "      <td>NaN</td>\n",
       "      <td>S</td>\n",
       "    </tr>\n",
       "    <tr>\n",
       "      <th>1</th>\n",
       "      <td>2</td>\n",
       "      <td>1</td>\n",
       "      <td>1</td>\n",
       "      <td>Cumings, Mrs. John Bradley (Florence Briggs Th...</td>\n",
       "      <td>female</td>\n",
       "      <td>38.0</td>\n",
       "      <td>1</td>\n",
       "      <td>0</td>\n",
       "      <td>PC 17599</td>\n",
       "      <td>71.2833</td>\n",
       "      <td>C85</td>\n",
       "      <td>C</td>\n",
       "    </tr>\n",
       "    <tr>\n",
       "      <th>2</th>\n",
       "      <td>3</td>\n",
       "      <td>1</td>\n",
       "      <td>3</td>\n",
       "      <td>Heikkinen, Miss. Laina</td>\n",
       "      <td>female</td>\n",
       "      <td>26.0</td>\n",
       "      <td>0</td>\n",
       "      <td>0</td>\n",
       "      <td>STON/O2. 3101282</td>\n",
       "      <td>7.9250</td>\n",
       "      <td>NaN</td>\n",
       "      <td>S</td>\n",
       "    </tr>\n",
       "    <tr>\n",
       "      <th>3</th>\n",
       "      <td>4</td>\n",
       "      <td>1</td>\n",
       "      <td>1</td>\n",
       "      <td>Futrelle, Mrs. Jacques Heath (Lily May Peel)</td>\n",
       "      <td>female</td>\n",
       "      <td>35.0</td>\n",
       "      <td>1</td>\n",
       "      <td>0</td>\n",
       "      <td>113803</td>\n",
       "      <td>53.1000</td>\n",
       "      <td>C123</td>\n",
       "      <td>S</td>\n",
       "    </tr>\n",
       "    <tr>\n",
       "      <th>4</th>\n",
       "      <td>5</td>\n",
       "      <td>0</td>\n",
       "      <td>3</td>\n",
       "      <td>Allen, Mr. William Henry</td>\n",
       "      <td>male</td>\n",
       "      <td>35.0</td>\n",
       "      <td>0</td>\n",
       "      <td>0</td>\n",
       "      <td>373450</td>\n",
       "      <td>8.0500</td>\n",
       "      <td>NaN</td>\n",
       "      <td>S</td>\n",
       "    </tr>\n",
       "    <tr>\n",
       "      <th>...</th>\n",
       "      <td>...</td>\n",
       "      <td>...</td>\n",
       "      <td>...</td>\n",
       "      <td>...</td>\n",
       "      <td>...</td>\n",
       "      <td>...</td>\n",
       "      <td>...</td>\n",
       "      <td>...</td>\n",
       "      <td>...</td>\n",
       "      <td>...</td>\n",
       "      <td>...</td>\n",
       "      <td>...</td>\n",
       "    </tr>\n",
       "    <tr>\n",
       "      <th>886</th>\n",
       "      <td>887</td>\n",
       "      <td>0</td>\n",
       "      <td>2</td>\n",
       "      <td>Montvila, Rev. Juozas</td>\n",
       "      <td>male</td>\n",
       "      <td>27.0</td>\n",
       "      <td>0</td>\n",
       "      <td>0</td>\n",
       "      <td>211536</td>\n",
       "      <td>13.0000</td>\n",
       "      <td>NaN</td>\n",
       "      <td>S</td>\n",
       "    </tr>\n",
       "    <tr>\n",
       "      <th>887</th>\n",
       "      <td>888</td>\n",
       "      <td>1</td>\n",
       "      <td>1</td>\n",
       "      <td>Graham, Miss. Margaret Edith</td>\n",
       "      <td>female</td>\n",
       "      <td>19.0</td>\n",
       "      <td>0</td>\n",
       "      <td>0</td>\n",
       "      <td>112053</td>\n",
       "      <td>30.0000</td>\n",
       "      <td>B42</td>\n",
       "      <td>S</td>\n",
       "    </tr>\n",
       "    <tr>\n",
       "      <th>888</th>\n",
       "      <td>889</td>\n",
       "      <td>0</td>\n",
       "      <td>3</td>\n",
       "      <td>Johnston, Miss. Catherine Helen \"Carrie\"</td>\n",
       "      <td>female</td>\n",
       "      <td>NaN</td>\n",
       "      <td>1</td>\n",
       "      <td>2</td>\n",
       "      <td>W./C. 6607</td>\n",
       "      <td>23.4500</td>\n",
       "      <td>NaN</td>\n",
       "      <td>S</td>\n",
       "    </tr>\n",
       "    <tr>\n",
       "      <th>889</th>\n",
       "      <td>890</td>\n",
       "      <td>1</td>\n",
       "      <td>1</td>\n",
       "      <td>Behr, Mr. Karl Howell</td>\n",
       "      <td>male</td>\n",
       "      <td>26.0</td>\n",
       "      <td>0</td>\n",
       "      <td>0</td>\n",
       "      <td>111369</td>\n",
       "      <td>30.0000</td>\n",
       "      <td>C148</td>\n",
       "      <td>C</td>\n",
       "    </tr>\n",
       "    <tr>\n",
       "      <th>890</th>\n",
       "      <td>891</td>\n",
       "      <td>0</td>\n",
       "      <td>3</td>\n",
       "      <td>Dooley, Mr. Patrick</td>\n",
       "      <td>male</td>\n",
       "      <td>32.0</td>\n",
       "      <td>0</td>\n",
       "      <td>0</td>\n",
       "      <td>370376</td>\n",
       "      <td>7.7500</td>\n",
       "      <td>NaN</td>\n",
       "      <td>Q</td>\n",
       "    </tr>\n",
       "  </tbody>\n",
       "</table>\n",
       "<p>891 rows × 12 columns</p>\n",
       "</div>"
      ],
      "text/plain": [
       "     PassengerId  Survived  Pclass  \\\n",
       "0              1         0       3   \n",
       "1              2         1       1   \n",
       "2              3         1       3   \n",
       "3              4         1       1   \n",
       "4              5         0       3   \n",
       "..           ...       ...     ...   \n",
       "886          887         0       2   \n",
       "887          888         1       1   \n",
       "888          889         0       3   \n",
       "889          890         1       1   \n",
       "890          891         0       3   \n",
       "\n",
       "                                                  Name     Sex   Age  SibSp  \\\n",
       "0                              Braund, Mr. Owen Harris    male  22.0      1   \n",
       "1    Cumings, Mrs. John Bradley (Florence Briggs Th...  female  38.0      1   \n",
       "2                               Heikkinen, Miss. Laina  female  26.0      0   \n",
       "3         Futrelle, Mrs. Jacques Heath (Lily May Peel)  female  35.0      1   \n",
       "4                             Allen, Mr. William Henry    male  35.0      0   \n",
       "..                                                 ...     ...   ...    ...   \n",
       "886                              Montvila, Rev. Juozas    male  27.0      0   \n",
       "887                       Graham, Miss. Margaret Edith  female  19.0      0   \n",
       "888           Johnston, Miss. Catherine Helen \"Carrie\"  female   NaN      1   \n",
       "889                              Behr, Mr. Karl Howell    male  26.0      0   \n",
       "890                                Dooley, Mr. Patrick    male  32.0      0   \n",
       "\n",
       "     Parch            Ticket     Fare Cabin Embarked  \n",
       "0        0         A/5 21171   7.2500   NaN        S  \n",
       "1        0          PC 17599  71.2833   C85        C  \n",
       "2        0  STON/O2. 3101282   7.9250   NaN        S  \n",
       "3        0            113803  53.1000  C123        S  \n",
       "4        0            373450   8.0500   NaN        S  \n",
       "..     ...               ...      ...   ...      ...  \n",
       "886      0            211536  13.0000   NaN        S  \n",
       "887      0            112053  30.0000   B42        S  \n",
       "888      2        W./C. 6607  23.4500   NaN        S  \n",
       "889      0            111369  30.0000  C148        C  \n",
       "890      0            370376   7.7500   NaN        Q  \n",
       "\n",
       "[891 rows x 12 columns]"
      ]
     },
     "execution_count": 3,
     "metadata": {},
     "output_type": "execute_result"
    }
   ],
   "source": [
    " # Method - 1\n",
    "import pandas as pd\n",
    "df = pd.read_csv('https://raw.githubusercontent.com/datasciencedojo/datasets/master/titanic.csv')\n",
    "df\n",
    "\n"
   ]
  },
  {
   "cell_type": "code",
   "execution_count": 6,
   "id": "b9268957-68b3-4ae5-bc2e-cef1d571e0a6",
   "metadata": {},
   "outputs": [
    {
     "data": {
      "text/html": [
       "<div>\n",
       "<style scoped>\n",
       "    .dataframe tbody tr th:only-of-type {\n",
       "        vertical-align: middle;\n",
       "    }\n",
       "\n",
       "    .dataframe tbody tr th {\n",
       "        vertical-align: top;\n",
       "    }\n",
       "\n",
       "    .dataframe thead th {\n",
       "        text-align: right;\n",
       "    }\n",
       "</style>\n",
       "<table border=\"1\" class=\"dataframe\">\n",
       "  <thead>\n",
       "    <tr style=\"text-align: right;\">\n",
       "      <th></th>\n",
       "      <th>PassengerId,Survived,Pclass,Name,Sex,Age,SibSp,Parch,Ticket,Fare,Cabin,Embarked</th>\n",
       "    </tr>\n",
       "  </thead>\n",
       "  <tbody>\n",
       "    <tr>\n",
       "      <th>0</th>\n",
       "      <td>1,0,3,\"Braund, Mr. Owen Harris\",male,22,1,0,A/...</td>\n",
       "    </tr>\n",
       "    <tr>\n",
       "      <th>1</th>\n",
       "      <td>2,1,1,\"Cumings, Mrs. John Bradley (Florence Br...</td>\n",
       "    </tr>\n",
       "    <tr>\n",
       "      <th>2</th>\n",
       "      <td>3,1,3,\"Heikkinen, Miss. Laina\",female,26,0,0,S...</td>\n",
       "    </tr>\n",
       "    <tr>\n",
       "      <th>3</th>\n",
       "      <td>4,1,1,\"Futrelle, Mrs. Jacques Heath (Lily May ...</td>\n",
       "    </tr>\n",
       "    <tr>\n",
       "      <th>4</th>\n",
       "      <td>5,0,3,\"Allen, Mr. William Henry\",male,35,0,0,3...</td>\n",
       "    </tr>\n",
       "    <tr>\n",
       "      <th>...</th>\n",
       "      <td>...</td>\n",
       "    </tr>\n",
       "    <tr>\n",
       "      <th>886</th>\n",
       "      <td>887,0,2,\"Montvila, Rev. Juozas\",male,27,0,0,21...</td>\n",
       "    </tr>\n",
       "    <tr>\n",
       "      <th>887</th>\n",
       "      <td>888,1,1,\"Graham, Miss. Margaret Edith\",female,...</td>\n",
       "    </tr>\n",
       "    <tr>\n",
       "      <th>888</th>\n",
       "      <td>889,0,3,\"Johnston, Miss. Catherine Helen \"\"Car...</td>\n",
       "    </tr>\n",
       "    <tr>\n",
       "      <th>889</th>\n",
       "      <td>890,1,1,\"Behr, Mr. Karl Howell\",male,26,0,0,11...</td>\n",
       "    </tr>\n",
       "    <tr>\n",
       "      <th>890</th>\n",
       "      <td>891,0,3,\"Dooley, Mr. Patrick\",male,32,0,0,3703...</td>\n",
       "    </tr>\n",
       "  </tbody>\n",
       "</table>\n",
       "<p>891 rows × 1 columns</p>\n",
       "</div>"
      ],
      "text/plain": [
       "    PassengerId,Survived,Pclass,Name,Sex,Age,SibSp,Parch,Ticket,Fare,Cabin,Embarked\n",
       "0    1,0,3,\"Braund, Mr. Owen Harris\",male,22,1,0,A/...                             \n",
       "1    2,1,1,\"Cumings, Mrs. John Bradley (Florence Br...                             \n",
       "2    3,1,3,\"Heikkinen, Miss. Laina\",female,26,0,0,S...                             \n",
       "3    4,1,1,\"Futrelle, Mrs. Jacques Heath (Lily May ...                             \n",
       "4    5,0,3,\"Allen, Mr. William Henry\",male,35,0,0,3...                             \n",
       "..                                                 ...                             \n",
       "886  887,0,2,\"Montvila, Rev. Juozas\",male,27,0,0,21...                             \n",
       "887  888,1,1,\"Graham, Miss. Margaret Edith\",female,...                             \n",
       "888  889,0,3,\"Johnston, Miss. Catherine Helen \"\"Car...                             \n",
       "889  890,1,1,\"Behr, Mr. Karl Howell\",male,26,0,0,11...                             \n",
       "890  891,0,3,\"Dooley, Mr. Patrick\",male,32,0,0,3703...                             \n",
       "\n",
       "[891 rows x 1 columns]"
      ]
     },
     "execution_count": 6,
     "metadata": {},
     "output_type": "execute_result"
    }
   ],
   "source": [
    "# Method - 2\n",
    "ds = pd.read_table('https://raw.githubusercontent.com/datasciencedojo/datasets/master/titanic.csv')\n",
    "ds"
   ]
  },
  {
   "cell_type": "markdown",
   "id": "c5f48c0e-cd0e-4cda-8609-807be07da001",
   "metadata": {},
   "source": [
    "**Q2. How do you check the data type of a column in a Pandas DataFrame?**\n",
    "<br>Ans. To check the data type in pandas DataFrame we can use the “dtype” attribute. The attribute returns a series with the data type of each column.\n",
    "<br>For a single column: dataframe.column_name.dtype \n",
    "<br>For all columns: dataframe.dtypes\n"
   ]
  },
  {
   "cell_type": "code",
   "execution_count": 7,
   "id": "790bc68c-8197-479f-854f-ce66688765c0",
   "metadata": {},
   "outputs": [
    {
     "data": {
      "text/plain": [
       "PassengerId      int64\n",
       "Survived         int64\n",
       "Pclass           int64\n",
       "Name            object\n",
       "Sex             object\n",
       "Age            float64\n",
       "SibSp            int64\n",
       "Parch            int64\n",
       "Ticket          object\n",
       "Fare           float64\n",
       "Cabin           object\n",
       "Embarked        object\n",
       "dtype: object"
      ]
     },
     "execution_count": 7,
     "metadata": {},
     "output_type": "execute_result"
    }
   ],
   "source": [
    "df.dtypes"
   ]
  },
  {
   "cell_type": "code",
   "execution_count": 14,
   "id": "f66ed363-e361-4cd2-850c-bd3fccaa2e52",
   "metadata": {},
   "outputs": [
    {
     "data": {
      "text/plain": [
       "dtype('float64')"
      ]
     },
     "execution_count": 14,
     "metadata": {},
     "output_type": "execute_result"
    }
   ],
   "source": [
    "df.Age.dtype\n"
   ]
  },
  {
   "cell_type": "markdown",
   "id": "3d052d41-1381-4f3a-bd82-896bcf3555aa",
   "metadata": {},
   "source": [
    "__Q3. How do you select rows from a Pandas DataFrame based on a condition?__\n",
    "<br> Ans. Rows from pandas DataFrame can be filtered based on a single condition or multiple conditions either using \n",
    "1. DataFrame.loc[] attribute \n",
    "2. DataFrame.query() \n",
    "3. DataFrame.apply() method."
   ]
  },
  {
   "cell_type": "markdown",
   "id": "093db691-417b-486e-83ed-89b5f7e1d581",
   "metadata": {},
   "source": [
    "__Q4. How do you rename columns in a Pandas DataFrame?__\n",
    "<br>Ans. One way of renaming the columns in a Pandas Dataframe is by using the rename() function. This method is quite useful when we need to rename some selected columns.\n",
    "\n",
    "__Syntax :__ dataFrame.rename(columns={'oldName1': 'newName1', 'oldName2': 'newName2'})"
   ]
  },
  {
   "cell_type": "code",
   "execution_count": 4,
   "id": "250a6636-351b-48c4-82f3-5f01126297c7",
   "metadata": {},
   "outputs": [
    {
     "name": "stdout",
     "output_type": "stream",
     "text": [
      "Index(['Courses', 'Fee', 'Duration'], dtype='object')\n",
      "Index(['Courses_List', 'Fee', 'Duration'], dtype='object')\n",
      "Index(['Courses_List', 'Courses_Fee', 'Courses_Duration'], dtype='object')\n"
     ]
    }
   ],
   "source": [
    "technologies = ({\n",
    "  'Courses':[\"Spark\",\"PySpark\",\"Hadoop\",\"Python\",\"pandas\",\"Oracle\",\"Java\"],\n",
    "  'Fee' :[20000,25000,26000,22000,24000,21000,22000],\n",
    "  'Duration':['30day', '40days' ,'35days', '40days', '60days', '50days', '55days']\n",
    "              })\n",
    "df = pd.DataFrame(technologies)\n",
    "print(df.columns)\n",
    "df\n",
    "\n",
    "# Rename a Single Column \n",
    "df=df.rename(columns = {'Courses':'Courses_List'})\n",
    "print(df.columns)\n",
    "      \n",
    "# Rename multiple columns\n",
    "df.rename(columns = {'Courses':'Courses_List','Fee':'Courses_Fee', \n",
    "   'Duration':'Courses_Duration'}, inplace = True)\n",
    "print(df.columns)"
   ]
  },
  {
   "cell_type": "markdown",
   "id": "f9dec7f6-4768-4cd8-b448-7a4622d983be",
   "metadata": {},
   "source": [
    "__Q5. How do you drop columns in a Pandas DataFrame?__\n",
    "<br>Ans. The drop() method removes the specified row or column.\n",
    "\n",
    "__Syntax :__ df = dataframe.drop('column_name', axis=1)\n",
    "<br>where 1 is the axis number (0 for rows and 1 for columns.)\n",
    "<br>To delete the column without reassign df is:\n",
    "df.drop('column_name', axis=1, inplace=True)"
   ]
  },
  {
   "cell_type": "code",
   "execution_count": 13,
   "id": "07897001-56dd-43ab-a9b4-8f49f394eeb2",
   "metadata": {},
   "outputs": [
    {
     "name": "stdout",
     "output_type": "stream",
     "text": [
      "Index(['PassengerId', 'Survived', 'Name', 'Sex', 'Age', 'SibSp', 'Parch',\n",
      "       'Ticket', 'Fare', 'Cabin', 'Embarked'],\n",
      "      dtype='object')\n",
      "Index(['Pclass', 'Name', 'Sex', 'Age', 'SibSp', 'Parch', 'Ticket', 'Fare',\n",
      "       'Cabin', 'Embarked'],\n",
      "      dtype='object')\n",
      "Index(['PassengerId', 'Survived', 'Pclass', 'Name', 'Sex', 'Age', 'SibSp',\n",
      "       'Parch', 'Ticket', 'Cabin', 'Embarked'],\n",
      "      dtype='object')\n",
      "Index(['PassengerId', 'Survived', 'Pclass', 'Name', 'SibSp', 'Parch', 'Ticket',\n",
      "       'Fare', 'Cabin', 'Embarked'],\n",
      "      dtype='object')\n"
     ]
    }
   ],
   "source": [
    "df = pd.read_csv('https://raw.githubusercontent.com/datasciencedojo/datasets/master/titanic.csv')\n",
    "df\n",
    "\n",
    "# Drop column by index\n",
    "df2=df.drop(df.columns[2], axis = 1)\n",
    "print(df2.columns)\n",
    "\n",
    "# Drop multiple columns by Index\n",
    "df2=df.drop(df.columns[[0,1]], axis = 1)\n",
    "print(df2.columns)\n",
    "\n",
    "# Drop single column by Name\n",
    "df2=df.drop([\"Fare\"], axis = 1)\n",
    "print(df2.columns)\n",
    "\n",
    "# Drop multiple columns by Name\n",
    "df2=df.drop([\"Sex\", \"Age\"], axis = 1)\n",
    "print(df2.columns)\n"
   ]
  },
  {
   "cell_type": "markdown",
   "id": "4d64e8bc-39cd-4d15-a874-a8ceaa2fcc80",
   "metadata": {},
   "source": [
    "__Q6. How do you find the unique values in a column of a Pandas DataFrame?__\n",
    "<br>Ans. You can get unique values in column (multiple columns) from pandas DataFrame using unique() method.\n",
    "\n",
    "__Syntax :__ dataframe['column_name'].unique()\n"
   ]
  },
  {
   "cell_type": "code",
   "execution_count": 47,
   "id": "d188548b-bc5b-4f66-833d-3b93d380cf78",
   "metadata": {},
   "outputs": [
    {
     "name": "stdout",
     "output_type": "stream",
     "text": [
      "['30day' '40days' '35days' '60days' '50days' '55days']\n",
      "['E1']\n",
      "['D1' 'D2' 'D3' 'D4' 'Spark' 'PySpark' 'Hadoop' 'Python' 'pandas' 'Oracle'\n",
      " 'Java']\n"
     ]
    },
    {
     "data": {
      "text/plain": [
       "0    E1\n",
       "Name: E, dtype: object"
      ]
     },
     "execution_count": 47,
     "metadata": {},
     "output_type": "execute_result"
    }
   ],
   "source": [
    "technologies = ({\n",
    "  'Courses':[\"Spark\",\"PySpark\",\"Hadoop\",\"Python\",\"pandas\",\"Oracle\",\"Java\"],\n",
    "  'Fee' :[20000,25000,26000,22000,24000,21000,22000],\n",
    "  'Duration':['30day', '40days' ,'35days', '40days', '60days', '50days', '55days'],\n",
    "  'D':['D1', 'D2', 'D2', 'D2', 'D2', 'D3', 'D4'], \n",
    "  'E':['E1', 'E1', 'E1', 'E1', 'E1','E1', 'E1']\n",
    "              })\n",
    "df1 = pd.DataFrame(technologies)\n",
    "\n",
    "# Find unique values of a column\n",
    "print(df1['Duration'].unique())\n",
    "print(df1.E.unique())\n",
    "\n",
    "# Using pandas.unique() to unique values in multiple columns\n",
    "df2=pd.unique(df1[['D', 'Courses']].values.ravel('k'))\n",
    "print(df2)\n",
    "\n",
    "# unique values with drop_duplicates\n",
    "df1.E.drop_duplicates()\n"
   ]
  },
  {
   "cell_type": "markdown",
   "id": "3ee1cd25-f60f-4e25-b709-6e275b8afdea",
   "metadata": {},
   "source": [
    "__Q7. How do you find the number of missing values in each column of a Pandas DataFrame?__\n",
    "<br>Ans. Count NaN or missing values in Pandas DataFrame using isnull() and sum() method of the DataFrame. Pandas isnull() function detect missing values in the given object.\n",
    "\n",
    "__Syntax :__ DataFrame.isnull()\n",
    "<br>Missing values gets mapped to True and non-missing value gets mapped to False.\n",
    "<br>sum() function return the sum of the values for the requested axis.\n",
    "<br>We can also count the NaN values in Pandas DataFrame using the isna() function and with the sum() function."
   ]
  },
  {
   "cell_type": "code",
   "execution_count": 22,
   "id": "2e7c165d-689e-4415-ae6b-9917289627d4",
   "metadata": {},
   "outputs": [
    {
     "name": "stdout",
     "output_type": "stream",
     "text": [
      "PassengerId      0\n",
      "Survived         0\n",
      "Pclass           0\n",
      "Name             0\n",
      "Sex              0\n",
      "Age            177\n",
      "SibSp            0\n",
      "Parch            0\n",
      "Ticket           0\n",
      "Fare             0\n",
      "Cabin          687\n",
      "Embarked         2\n",
      "dtype: int64\n",
      "866\n"
     ]
    }
   ],
   "source": [
    "df = pd.read_csv('https://raw.githubusercontent.com/datasciencedojo/datasets/master/titanic.csv')\n",
    "# Count total NaN at each column in a DataFrame\n",
    "print(df.isnull().sum())\n",
    "\n",
    "# Count total NaN in a DataFrame\n",
    "print(df.isnull().sum().sum())\n",
    "\n",
    "\n",
    "\n"
   ]
  },
  {
   "cell_type": "code",
   "execution_count": 4,
   "id": "3f68ce1f-1867-4ae5-a3d1-faf1229df5e5",
   "metadata": {},
   "outputs": [
    {
     "name": "stdout",
     "output_type": "stream",
     "text": [
      "177\n"
     ]
    }
   ],
   "source": [
    "# METHOD 2\n",
    "\n",
    "df = pd.read_csv('https://raw.githubusercontent.com/datasciencedojo/datasets/master/titanic.csv')\n",
    "# Count the NaN values in single column\n",
    "print(df['Age'].isna().sum())"
   ]
  },
  {
   "cell_type": "code",
   "execution_count": 5,
   "id": "cb4266c2-2655-4b8c-adb3-68b9f2c2a6d0",
   "metadata": {},
   "outputs": [
    {
     "name": "stdout",
     "output_type": "stream",
     "text": [
      "PassengerId      0\n",
      "Survived         0\n",
      "Pclass           0\n",
      "Name             0\n",
      "Sex              0\n",
      "Age            177\n",
      "SibSp            0\n",
      "Parch            0\n",
      "Ticket           0\n",
      "Fare             0\n",
      "Cabin          687\n",
      "Embarked         2\n",
      "dtype: int64\n"
     ]
    }
   ],
   "source": [
    "# Count NaN values in multiple columns of DataFrame\n",
    "print(df.isna().sum()) "
   ]
  },
  {
   "cell_type": "code",
   "execution_count": 6,
   "id": "944a4ec6-f6ec-45b7-88fd-56e597dc6842",
   "metadata": {},
   "outputs": [
    {
     "name": "stdout",
     "output_type": "stream",
     "text": [
      "866\n"
     ]
    }
   ],
   "source": [
    "# Count NaN values of whole DataFrame\n",
    "print(df.isna().sum().sum())"
   ]
  },
  {
   "cell_type": "code",
   "execution_count": 7,
   "id": "748b0c72-e71b-4a5c-baf6-0f7fc4cb9f09",
   "metadata": {},
   "outputs": [
    {
     "name": "stdout",
     "output_type": "stream",
     "text": [
      "0      1\n",
      "1      0\n",
      "2      1\n",
      "3      0\n",
      "4      1\n",
      "      ..\n",
      "886    1\n",
      "887    0\n",
      "888    2\n",
      "889    0\n",
      "890    1\n",
      "Length: 891, dtype: int64\n"
     ]
    }
   ],
   "source": [
    "# Count the NaN values in multiple rows\n",
    "print(df.isna().sum(axis = 1))"
   ]
  },
  {
   "cell_type": "markdown",
   "id": "9f799670-e621-427c-93b5-32cb4e44b367",
   "metadata": {
    "jupyter": {
     "source_hidden": true
    },
    "tags": []
   },
   "source": [
    "__Q8. How do you fill missing values in a Pandas DataFrame with a specific value?__\n",
    "<br>Ans. To replace missing values (NaN) in Pandas DataFrame, use the fillna() method. \n",
    "\n",
    "__Syntax :__ dataframe.fillna(value, method, axis, inplace, limit, downcast)\n",
    "<br>Parameters –\n",
    "  1. value: Specifies the value to replace the NULL values with.\n",
    "         This can also be values for the entire row or column.\n",
    "  2. method:\tSpecifies the method to use when replacing ('backfill', 'bfill', 'pad','ffill', None(default)). \n",
    "  3. axis:\tdefault 0. The axis to fill the NULL values along\n",
    "  4. inplace: default False. If True: the replacing is done on the current DataFrame.\n",
    "           If False: returns a copy where the replacing is done.\n",
    "  5. limit:\tdefault None. Specifies the maximum number of NULL values to fill (if method is specified)\n",
    "  6. downcast:\tA dictionary of values to fill for specific data types\n"
   ]
  },
  {
   "cell_type": "code",
   "execution_count": 8,
   "id": "8a0270ad-e839-4589-ac68-dc589998dedc",
   "metadata": {},
   "outputs": [
    {
     "name": "stdout",
     "output_type": "stream",
     "text": [
      "   First Second Third\n",
      "0  100.0   30.0  None\n",
      "1   90.0   45.0  40.0\n",
      "2   None   56.0  80.0\n",
      "3   95.0   None  98.0\n"
     ]
    }
   ],
   "source": [
    "import numpy as np\n",
    "Values = {'First':[100, 90, np.nan, 95],\n",
    "        'Second': [30, 45, 56, np.nan],\n",
    "        'Third':[np.nan, 40, 80, 98]}\n",
    "df2 = pd.DataFrame(Values)\n",
    "\n",
    "# fillna() on all columns\n",
    "print(df2.fillna('None'))"
   ]
  },
  {
   "cell_type": "code",
   "execution_count": 9,
   "id": "16a3cdfc-6adc-4285-8459-f2f854bcdc87",
   "metadata": {},
   "outputs": [
    {
     "name": "stdout",
     "output_type": "stream",
     "text": [
      "0    100.0\n",
      "1     90.0\n",
      "2      0.0\n",
      "3     95.0\n",
      "Name: First, dtype: float64\n"
     ]
    }
   ],
   "source": [
    "# fillna() on once column\n",
    "print(df2['First'].fillna(0))"
   ]
  },
  {
   "cell_type": "code",
   "execution_count": 10,
   "id": "62523941-7840-43fe-bcac-34e59b83346a",
   "metadata": {},
   "outputs": [
    {
     "name": "stdout",
     "output_type": "stream",
     "text": [
      "   First  Second\n",
      "0  100.0    30.0\n",
      "1   90.0    45.0\n",
      "2    0.0    56.0\n",
      "3   95.0     0.0\n"
     ]
    }
   ],
   "source": [
    "# fillna() on multiple columns\n",
    "print(df2[['First','Second']].fillna(0))"
   ]
  },
  {
   "cell_type": "code",
   "execution_count": 11,
   "id": "9ef9c183-43d2-4684-a157-46e44d0861c9",
   "metadata": {},
   "outputs": [
    {
     "name": "stdout",
     "output_type": "stream",
     "text": [
      "   First Second    Third\n",
      "0  100.0   30.0  10000.0\n",
      "1   90.0   45.0     40.0\n",
      "2    NaN   56.0     80.0\n",
      "3   95.0   None     98.0\n"
     ]
    }
   ],
   "source": [
    "# fillna() on multiple columns with different values\n",
    "print(df2.fillna(value={'Second':'None','Third':10000}))"
   ]
  },
  {
   "cell_type": "markdown",
   "id": "6f5df128-1aa7-4d1c-a4a5-b85118264e1b",
   "metadata": {},
   "source": [
    "__Q8. How do you fill missing values in a Pandas DataFrame with a specific value?__\n",
    "<br>Ans. To replace missing values (NaN) in Pandas DataFrame, use the fillna() method. \n",
    "__Syntax:__ dataframe.fillna(value, method, axis, inplace, limit, downcast)\n",
    "<br> Parameters-\n",
    "\n",
    "  1. value: Specifies the value to replace the NULL values with.\n",
    "     - This can also be values for the entire row or column.\n",
    "  2. method:\tSpecifies the method to use when replacing ('backfill', 'bfill', 'pad','ffill', None(default)). \n",
    "  3. axis: default 0. The axis to fill the NULL values along\n",
    "  4. inplace: default False. \n",
    "     - If True: the replacing is done on the current DataFrame.\n",
    "     -If False: returns a copy where the replacing is done.\n",
    "  5. limit:\tdefault None. Specifies the maximum number of NULL values to fill (if method is specified)\n",
    "  6. downcast: A dictionary of values to fill for specific data types\n"
   ]
  },
  {
   "cell_type": "markdown",
   "id": "7a680093-0810-4701-9f5c-cb49a5a012dd",
   "metadata": {},
   "source": [
    "__Q9. How do you concatenate two Pandas DataFrames?__\n",
    "<br>Ans. A concatenation of two or more data frames can be done using *pandas.concat()* method. \n",
    "<br>concat() in pandas works by combining Data Frames across rows or columns.\n",
    "<br>Use axis=0 to concat along rows, axis=1 to concat along columns.\n"
   ]
  },
  {
   "cell_type": "code",
   "execution_count": 14,
   "id": "fca10bce-492f-4086-922b-375da6ae5d88",
   "metadata": {},
   "outputs": [
    {
     "data": {
      "text/html": [
       "<div>\n",
       "<style scoped>\n",
       "    .dataframe tbody tr th:only-of-type {\n",
       "        vertical-align: middle;\n",
       "    }\n",
       "\n",
       "    .dataframe tbody tr th {\n",
       "        vertical-align: top;\n",
       "    }\n",
       "\n",
       "    .dataframe thead th {\n",
       "        text-align: right;\n",
       "    }\n",
       "</style>\n",
       "<table border=\"1\" class=\"dataframe\">\n",
       "  <thead>\n",
       "    <tr style=\"text-align: right;\">\n",
       "      <th></th>\n",
       "      <th>Courses</th>\n",
       "      <th>Fee</th>\n",
       "    </tr>\n",
       "  </thead>\n",
       "  <tbody>\n",
       "    <tr>\n",
       "      <th>0</th>\n",
       "      <td>Spark</td>\n",
       "      <td>20000</td>\n",
       "    </tr>\n",
       "    <tr>\n",
       "      <th>1</th>\n",
       "      <td>PySpark</td>\n",
       "      <td>25000</td>\n",
       "    </tr>\n",
       "    <tr>\n",
       "      <th>2</th>\n",
       "      <td>Python</td>\n",
       "      <td>22000</td>\n",
       "    </tr>\n",
       "    <tr>\n",
       "      <th>3</th>\n",
       "      <td>pandas</td>\n",
       "      <td>24000</td>\n",
       "    </tr>\n",
       "    <tr>\n",
       "      <th>0</th>\n",
       "      <td>Pandas</td>\n",
       "      <td>25000</td>\n",
       "    </tr>\n",
       "    <tr>\n",
       "      <th>1</th>\n",
       "      <td>Hadoop</td>\n",
       "      <td>25200</td>\n",
       "    </tr>\n",
       "    <tr>\n",
       "      <th>2</th>\n",
       "      <td>Hyperion</td>\n",
       "      <td>24500</td>\n",
       "    </tr>\n",
       "    <tr>\n",
       "      <th>3</th>\n",
       "      <td>Java</td>\n",
       "      <td>24900</td>\n",
       "    </tr>\n",
       "  </tbody>\n",
       "</table>\n",
       "</div>"
      ],
      "text/plain": [
       "    Courses    Fee\n",
       "0     Spark  20000\n",
       "1   PySpark  25000\n",
       "2    Python  22000\n",
       "3    pandas  24000\n",
       "0    Pandas  25000\n",
       "1    Hadoop  25200\n",
       "2  Hyperion  24500\n",
       "3      Java  24900"
      ]
     },
     "metadata": {},
     "output_type": "display_data"
    }
   ],
   "source": [
    "df = pd.DataFrame({'Courses': [\"Spark\",\"PySpark\",\"Python\",\"pandas\"],\n",
    "                    'Fee' : [20000,25000,22000,24000]})\n",
    "\n",
    "df1 = pd.DataFrame({'Courses': [\"Pandas\",\"Hadoop\",\"Hyperion\",\"Java\"],\n",
    "                    'Fee': [25000,25200,24500,24900]})\n",
    "# To concat two DataFrame\n",
    "ds=pd.concat([df, df1])\n",
    "display(ds)"
   ]
  },
  {
   "cell_type": "code",
   "execution_count": 19,
   "id": "a44021c8-4de8-4d12-a71b-e8366c971b0c",
   "metadata": {},
   "outputs": [
    {
     "data": {
      "text/html": [
       "<div>\n",
       "<style scoped>\n",
       "    .dataframe tbody tr th:only-of-type {\n",
       "        vertical-align: middle;\n",
       "    }\n",
       "\n",
       "    .dataframe tbody tr th {\n",
       "        vertical-align: top;\n",
       "    }\n",
       "\n",
       "    .dataframe thead th {\n",
       "        text-align: right;\n",
       "    }\n",
       "</style>\n",
       "<table border=\"1\" class=\"dataframe\">\n",
       "  <thead>\n",
       "    <tr style=\"text-align: right;\">\n",
       "      <th></th>\n",
       "      <th>Courses</th>\n",
       "      <th>Fee</th>\n",
       "    </tr>\n",
       "  </thead>\n",
       "  <tbody>\n",
       "    <tr>\n",
       "      <th>0</th>\n",
       "      <td>Spark</td>\n",
       "      <td>20000</td>\n",
       "    </tr>\n",
       "    <tr>\n",
       "      <th>1</th>\n",
       "      <td>PySpark</td>\n",
       "      <td>25000</td>\n",
       "    </tr>\n",
       "    <tr>\n",
       "      <th>2</th>\n",
       "      <td>Python</td>\n",
       "      <td>22000</td>\n",
       "    </tr>\n",
       "    <tr>\n",
       "      <th>3</th>\n",
       "      <td>pandas</td>\n",
       "      <td>24000</td>\n",
       "    </tr>\n",
       "    <tr>\n",
       "      <th>4</th>\n",
       "      <td>Pandas</td>\n",
       "      <td>25000</td>\n",
       "    </tr>\n",
       "    <tr>\n",
       "      <th>5</th>\n",
       "      <td>Hadoop</td>\n",
       "      <td>25200</td>\n",
       "    </tr>\n",
       "    <tr>\n",
       "      <th>6</th>\n",
       "      <td>Hyperion</td>\n",
       "      <td>24500</td>\n",
       "    </tr>\n",
       "    <tr>\n",
       "      <th>7</th>\n",
       "      <td>Java</td>\n",
       "      <td>24900</td>\n",
       "    </tr>\n",
       "  </tbody>\n",
       "</table>\n",
       "</div>"
      ],
      "text/plain": [
       "    Courses    Fee\n",
       "0     Spark  20000\n",
       "1   PySpark  25000\n",
       "2    Python  22000\n",
       "3    pandas  24000\n",
       "4    Pandas  25000\n",
       "5    Hadoop  25200\n",
       "6  Hyperion  24500\n",
       "7      Java  24900"
      ]
     },
     "metadata": {},
     "output_type": "display_data"
    }
   ],
   "source": [
    "# Use pandas.concat() method to ignore_index\n",
    "ds = pd.concat([df, df1], ignore_index=True)\n",
    "display(ds)"
   ]
  },
  {
   "cell_type": "code",
   "execution_count": 20,
   "id": "7996ac01-236d-4c0a-a61c-5716f5699d32",
   "metadata": {},
   "outputs": [
    {
     "data": {
      "text/html": [
       "<div>\n",
       "<style scoped>\n",
       "    .dataframe tbody tr th:only-of-type {\n",
       "        vertical-align: middle;\n",
       "    }\n",
       "\n",
       "    .dataframe tbody tr th {\n",
       "        vertical-align: top;\n",
       "    }\n",
       "\n",
       "    .dataframe thead th {\n",
       "        text-align: right;\n",
       "    }\n",
       "</style>\n",
       "<table border=\"1\" class=\"dataframe\">\n",
       "  <thead>\n",
       "    <tr style=\"text-align: right;\">\n",
       "      <th></th>\n",
       "      <th>Courses</th>\n",
       "      <th>Fee</th>\n",
       "      <th>Duration</th>\n",
       "      <th>Discount</th>\n",
       "    </tr>\n",
       "  </thead>\n",
       "  <tbody>\n",
       "    <tr>\n",
       "      <th>0</th>\n",
       "      <td>Spark</td>\n",
       "      <td>20000</td>\n",
       "      <td>30day</td>\n",
       "      <td>1000</td>\n",
       "    </tr>\n",
       "    <tr>\n",
       "      <th>1</th>\n",
       "      <td>PySpark</td>\n",
       "      <td>25000</td>\n",
       "      <td>40days</td>\n",
       "      <td>2300</td>\n",
       "    </tr>\n",
       "    <tr>\n",
       "      <th>2</th>\n",
       "      <td>Python</td>\n",
       "      <td>22000</td>\n",
       "      <td>35days</td>\n",
       "      <td>2500</td>\n",
       "    </tr>\n",
       "    <tr>\n",
       "      <th>3</th>\n",
       "      <td>pandas</td>\n",
       "      <td>24000</td>\n",
       "      <td>60days</td>\n",
       "      <td>2000</td>\n",
       "    </tr>\n",
       "  </tbody>\n",
       "</table>\n",
       "</div>"
      ],
      "text/plain": [
       "   Courses    Fee Duration  Discount\n",
       "0    Spark  20000    30day      1000\n",
       "1  PySpark  25000   40days      2300\n",
       "2   Python  22000   35days      2500\n",
       "3   pandas  24000   60days      2000"
      ]
     },
     "metadata": {},
     "output_type": "display_data"
    }
   ],
   "source": [
    "df3 = pd.DataFrame({'Courses':[\"Spark\",\"PySpark\",\"Python\",\"pandas\"],\n",
    "                      'Fee' :[20000,25000,22000,24000]})\n",
    "  \n",
    "df4 = pd.DataFrame({'Duration':['30day','40days','35days','60days'],\n",
    "                      'Discount':[1000,2300,2500,2000,]}) \n",
    "# concatenating df3 and df4 along columns\n",
    "ds = pd.concat([df3, df4], axis=1)\n",
    "display(ds)"
   ]
  },
  {
   "cell_type": "markdown",
   "id": "b9ddff02-b69f-4031-b2b8-76923bf6bf23",
   "metadata": {},
   "source": [
    "__Q10. How do you merge two Pandas DataFrames on a specific column?__\n",
    "<br>Ans. Pandas merge() function is used to merge multiple Dataframes. \n",
    "<br>We can use either *pandas.merge()* or *DataFrame.merge()* to merge multiple Dataframes. "
   ]
  },
  {
   "cell_type": "code",
   "execution_count": 35,
   "id": "6a29e183-267e-466d-8c48-af2fc77a584a",
   "metadata": {},
   "outputs": [
    {
     "data": {
      "text/html": [
       "<div>\n",
       "<style scoped>\n",
       "    .dataframe tbody tr th:only-of-type {\n",
       "        vertical-align: middle;\n",
       "    }\n",
       "\n",
       "    .dataframe tbody tr th {\n",
       "        vertical-align: top;\n",
       "    }\n",
       "\n",
       "    .dataframe thead th {\n",
       "        text-align: right;\n",
       "    }\n",
       "</style>\n",
       "<table border=\"1\" class=\"dataframe\">\n",
       "  <thead>\n",
       "    <tr style=\"text-align: right;\">\n",
       "      <th></th>\n",
       "      <th>Name</th>\n",
       "      <th>Marks</th>\n",
       "    </tr>\n",
       "  </thead>\n",
       "  <tbody>\n",
       "    <tr>\n",
       "      <th>0</th>\n",
       "      <td>Raju</td>\n",
       "      <td>80</td>\n",
       "    </tr>\n",
       "    <tr>\n",
       "      <th>1</th>\n",
       "      <td>Rani</td>\n",
       "      <td>90</td>\n",
       "    </tr>\n",
       "    <tr>\n",
       "      <th>2</th>\n",
       "      <td>Geeta</td>\n",
       "      <td>75</td>\n",
       "    </tr>\n",
       "    <tr>\n",
       "      <th>3</th>\n",
       "      <td>Sita</td>\n",
       "      <td>88</td>\n",
       "    </tr>\n",
       "    <tr>\n",
       "      <th>4</th>\n",
       "      <td>Sohit</td>\n",
       "      <td>59</td>\n",
       "    </tr>\n",
       "  </tbody>\n",
       "</table>\n",
       "</div>"
      ],
      "text/plain": [
       "    Name  Marks\n",
       "0   Raju     80\n",
       "1   Rani     90\n",
       "2  Geeta     75\n",
       "3   Sita     88\n",
       "4  Sohit     59"
      ]
     },
     "metadata": {},
     "output_type": "display_data"
    },
    {
     "data": {
      "text/html": [
       "<div>\n",
       "<style scoped>\n",
       "    .dataframe tbody tr th:only-of-type {\n",
       "        vertical-align: middle;\n",
       "    }\n",
       "\n",
       "    .dataframe tbody tr th {\n",
       "        vertical-align: top;\n",
       "    }\n",
       "\n",
       "    .dataframe thead th {\n",
       "        text-align: right;\n",
       "    }\n",
       "</style>\n",
       "<table border=\"1\" class=\"dataframe\">\n",
       "  <thead>\n",
       "    <tr style=\"text-align: right;\">\n",
       "      <th></th>\n",
       "      <th>Name</th>\n",
       "      <th>Grade</th>\n",
       "      <th>Rank</th>\n",
       "      <th>Gender</th>\n",
       "    </tr>\n",
       "  </thead>\n",
       "  <tbody>\n",
       "    <tr>\n",
       "      <th>0</th>\n",
       "      <td>Raju</td>\n",
       "      <td>A</td>\n",
       "      <td>3</td>\n",
       "      <td>Male</td>\n",
       "    </tr>\n",
       "    <tr>\n",
       "      <th>1</th>\n",
       "      <td>Divya</td>\n",
       "      <td>A</td>\n",
       "      <td>1</td>\n",
       "      <td>Female</td>\n",
       "    </tr>\n",
       "    <tr>\n",
       "      <th>2</th>\n",
       "      <td>Geeta</td>\n",
       "      <td>B</td>\n",
       "      <td>4</td>\n",
       "      <td>Female</td>\n",
       "    </tr>\n",
       "    <tr>\n",
       "      <th>3</th>\n",
       "      <td>Sita</td>\n",
       "      <td>A</td>\n",
       "      <td>2</td>\n",
       "      <td>Female</td>\n",
       "    </tr>\n",
       "  </tbody>\n",
       "</table>\n",
       "</div>"
      ],
      "text/plain": [
       "    Name Grade  Rank  Gender\n",
       "0   Raju     A     3    Male\n",
       "1  Divya     A     1  Female\n",
       "2  Geeta     B     4  Female\n",
       "3   Sita     A     2  Female"
      ]
     },
     "metadata": {},
     "output_type": "display_data"
    },
    {
     "data": {
      "text/html": [
       "<div>\n",
       "<style scoped>\n",
       "    .dataframe tbody tr th:only-of-type {\n",
       "        vertical-align: middle;\n",
       "    }\n",
       "\n",
       "    .dataframe tbody tr th {\n",
       "        vertical-align: top;\n",
       "    }\n",
       "\n",
       "    .dataframe thead th {\n",
       "        text-align: right;\n",
       "    }\n",
       "</style>\n",
       "<table border=\"1\" class=\"dataframe\">\n",
       "  <thead>\n",
       "    <tr style=\"text-align: right;\">\n",
       "      <th></th>\n",
       "      <th>Name</th>\n",
       "      <th>Marks</th>\n",
       "      <th>Grade</th>\n",
       "      <th>Rank</th>\n",
       "      <th>Gender</th>\n",
       "    </tr>\n",
       "  </thead>\n",
       "  <tbody>\n",
       "    <tr>\n",
       "      <th>0</th>\n",
       "      <td>Raju</td>\n",
       "      <td>80</td>\n",
       "      <td>A</td>\n",
       "      <td>3</td>\n",
       "      <td>Male</td>\n",
       "    </tr>\n",
       "    <tr>\n",
       "      <th>1</th>\n",
       "      <td>Geeta</td>\n",
       "      <td>75</td>\n",
       "      <td>B</td>\n",
       "      <td>4</td>\n",
       "      <td>Female</td>\n",
       "    </tr>\n",
       "    <tr>\n",
       "      <th>2</th>\n",
       "      <td>Sita</td>\n",
       "      <td>88</td>\n",
       "      <td>A</td>\n",
       "      <td>2</td>\n",
       "      <td>Female</td>\n",
       "    </tr>\n",
       "  </tbody>\n",
       "</table>\n",
       "</div>"
      ],
      "text/plain": [
       "    Name  Marks Grade  Rank  Gender\n",
       "0   Raju     80     A     3    Male\n",
       "1  Geeta     75     B     4  Female\n",
       "2   Sita     88     A     2  Female"
      ]
     },
     "execution_count": 35,
     "metadata": {},
     "output_type": "execute_result"
    }
   ],
   "source": [
    "# creating a dataframe\n",
    "ds1 = pd.DataFrame({'Name':['Raju', 'Rani', 'Geeta', 'Sita', 'Sohit'],\n",
    "                    'Marks':[80, 90, 75, 88, 59]})\n",
    "# creating another dataframe with different data\n",
    "ds2 = pd.DataFrame({'Name':['Raju', 'Divya', 'Geeta', 'Sita'],\n",
    "                    'Grade':['A', 'A', 'B', 'A'],\n",
    "                    'Rank':[3, 1, 4, 2 ],\n",
    "                    'Gender':['Male', 'Female', 'Female', 'Female']})\n",
    "\n",
    "# display ds1\n",
    "display(ds1)\n",
    "  \n",
    "# display ds2\n",
    "display(ds2)\n",
    "\n",
    "# applying merge on two dataframes\n",
    "ds1.merge(ds2)\n"
   ]
  },
  {
   "cell_type": "code",
   "execution_count": 37,
   "id": "88f40733-a606-4754-a09e-cb3cb1a44d5c",
   "metadata": {},
   "outputs": [
    {
     "data": {
      "text/html": [
       "<div>\n",
       "<style scoped>\n",
       "    .dataframe tbody tr th:only-of-type {\n",
       "        vertical-align: middle;\n",
       "    }\n",
       "\n",
       "    .dataframe tbody tr th {\n",
       "        vertical-align: top;\n",
       "    }\n",
       "\n",
       "    .dataframe thead th {\n",
       "        text-align: right;\n",
       "    }\n",
       "</style>\n",
       "<table border=\"1\" class=\"dataframe\">\n",
       "  <thead>\n",
       "    <tr style=\"text-align: right;\">\n",
       "      <th></th>\n",
       "      <th>Name</th>\n",
       "      <th>Marks</th>\n",
       "      <th>Grade</th>\n",
       "      <th>Rank</th>\n",
       "    </tr>\n",
       "  </thead>\n",
       "  <tbody>\n",
       "    <tr>\n",
       "      <th>0</th>\n",
       "      <td>Raju</td>\n",
       "      <td>80</td>\n",
       "      <td>A</td>\n",
       "      <td>3</td>\n",
       "    </tr>\n",
       "    <tr>\n",
       "      <th>1</th>\n",
       "      <td>Geeta</td>\n",
       "      <td>75</td>\n",
       "      <td>B</td>\n",
       "      <td>4</td>\n",
       "    </tr>\n",
       "    <tr>\n",
       "      <th>2</th>\n",
       "      <td>Sita</td>\n",
       "      <td>88</td>\n",
       "      <td>A</td>\n",
       "      <td>2</td>\n",
       "    </tr>\n",
       "  </tbody>\n",
       "</table>\n",
       "</div>"
      ],
      "text/plain": [
       "    Name  Marks Grade  Rank\n",
       "0   Raju     80     A     3\n",
       "1  Geeta     75     B     4\n",
       "2   Sita     88     A     2"
      ]
     },
     "execution_count": 37,
     "metadata": {},
     "output_type": "execute_result"
    }
   ],
   "source": [
    "# applying merge with multiple columns\n",
    "ds1.merge(ds2[['Name', 'Grade', 'Rank']])\n"
   ]
  },
  {
   "cell_type": "code",
   "execution_count": 41,
   "id": "d53f8c5f-ea88-4ef7-8367-180fd4a73e84",
   "metadata": {},
   "outputs": [
    {
     "data": {
      "text/html": [
       "<div>\n",
       "<style scoped>\n",
       "    .dataframe tbody tr th:only-of-type {\n",
       "        vertical-align: middle;\n",
       "    }\n",
       "\n",
       "    .dataframe tbody tr th {\n",
       "        vertical-align: top;\n",
       "    }\n",
       "\n",
       "    .dataframe thead th {\n",
       "        text-align: right;\n",
       "    }\n",
       "</style>\n",
       "<table border=\"1\" class=\"dataframe\">\n",
       "  <thead>\n",
       "    <tr style=\"text-align: right;\">\n",
       "      <th></th>\n",
       "      <th>Name</th>\n",
       "      <th>Marks_x</th>\n",
       "      <th>Marks_y</th>\n",
       "      <th>Grade</th>\n",
       "      <th>Rank</th>\n",
       "    </tr>\n",
       "  </thead>\n",
       "  <tbody>\n",
       "    <tr>\n",
       "      <th>0</th>\n",
       "      <td>Raju</td>\n",
       "      <td>80</td>\n",
       "      <td>8.0</td>\n",
       "      <td>A</td>\n",
       "      <td>3</td>\n",
       "    </tr>\n",
       "    <tr>\n",
       "      <th>1</th>\n",
       "      <td>Geeta</td>\n",
       "      <td>75</td>\n",
       "      <td>7.5</td>\n",
       "      <td>B</td>\n",
       "      <td>4</td>\n",
       "    </tr>\n",
       "    <tr>\n",
       "      <th>2</th>\n",
       "      <td>Sita</td>\n",
       "      <td>88</td>\n",
       "      <td>8.5</td>\n",
       "      <td>A</td>\n",
       "      <td>2</td>\n",
       "    </tr>\n",
       "  </tbody>\n",
       "</table>\n",
       "</div>"
      ],
      "text/plain": [
       "    Name  Marks_x  Marks_y Grade  Rank\n",
       "0   Raju       80      8.0     A     3\n",
       "1  Geeta       75      7.5     B     4\n",
       "2   Sita       88      8.5     A     2"
      ]
     },
     "metadata": {},
     "output_type": "display_data"
    },
    {
     "data": {
      "text/html": [
       "<div>\n",
       "<style scoped>\n",
       "    .dataframe tbody tr th:only-of-type {\n",
       "        vertical-align: middle;\n",
       "    }\n",
       "\n",
       "    .dataframe tbody tr th {\n",
       "        vertical-align: top;\n",
       "    }\n",
       "\n",
       "    .dataframe thead th {\n",
       "        text-align: right;\n",
       "    }\n",
       "</style>\n",
       "<table border=\"1\" class=\"dataframe\">\n",
       "  <thead>\n",
       "    <tr style=\"text-align: right;\">\n",
       "      <th></th>\n",
       "      <th>Name</th>\n",
       "      <th>Marks_In_Percent</th>\n",
       "      <th>Marks_In_Cgpa</th>\n",
       "      <th>Grade</th>\n",
       "      <th>Rank</th>\n",
       "    </tr>\n",
       "  </thead>\n",
       "  <tbody>\n",
       "    <tr>\n",
       "      <th>0</th>\n",
       "      <td>Raju</td>\n",
       "      <td>80</td>\n",
       "      <td>8.0</td>\n",
       "      <td>A</td>\n",
       "      <td>3</td>\n",
       "    </tr>\n",
       "    <tr>\n",
       "      <th>1</th>\n",
       "      <td>Geeta</td>\n",
       "      <td>75</td>\n",
       "      <td>7.5</td>\n",
       "      <td>B</td>\n",
       "      <td>4</td>\n",
       "    </tr>\n",
       "    <tr>\n",
       "      <th>2</th>\n",
       "      <td>Sita</td>\n",
       "      <td>88</td>\n",
       "      <td>8.5</td>\n",
       "      <td>A</td>\n",
       "      <td>2</td>\n",
       "    </tr>\n",
       "  </tbody>\n",
       "</table>\n",
       "</div>"
      ],
      "text/plain": [
       "    Name  Marks_In_Percent  Marks_In_Cgpa Grade  Rank\n",
       "0   Raju                80            8.0     A     3\n",
       "1  Geeta                75            7.5     B     4\n",
       "2   Sita                88            8.5     A     2"
      ]
     },
     "metadata": {},
     "output_type": "display_data"
    }
   ],
   "source": [
    "\n",
    "  \n",
    "# creating another dataframe with different data\n",
    "ds3 = pd.DataFrame({'Name':['Raju', 'Divya', 'Geeta', 'Sita'],\n",
    "                    'Marks':[8, 9, 7.5, 8.5],\n",
    "                    'Grade':['A', 'A', 'B', 'A'],\n",
    "                    'Rank':[3, 1, 4, 2 ]})\n",
    "\n",
    "# merge with similar column names in both the dataframes which are not in join key \n",
    "ds4=ds1.merge(ds3, on='Name')\n",
    "# display ds4\n",
    "display(ds4)\n",
    "\n",
    "\n",
    "# Merge two Dataframes on column 'ID' with custom suffix for non-key common columns\n",
    "ds5=ds1.merge(ds3, on='Name',suffixes=('_In_Percent', '_In_Cgpa'))\n",
    "# display ds5\n",
    "display(ds5)\n"
   ]
  },
  {
   "cell_type": "markdown",
   "id": "9ff8d16f-91fd-4480-ae91-d9ee7856e305",
   "metadata": {},
   "source": [
    "__Q11. How do you group data in a Pandas DataFrame by a specific column and apply an aggregation function?__\n",
    "<br>Ans. *Dataframe.aggregate()* function is used to apply some aggregation across one or more column.\n"
   ]
  },
  {
   "cell_type": "code",
   "execution_count": null,
   "id": "ddbdec67-fb53-4794-816d-16aa8571dfac",
   "metadata": {},
   "outputs": [],
   "source": []
  },
  {
   "cell_type": "markdown",
   "id": "77573d9e-69f4-4f0b-97f7-56a192a22477",
   "metadata": {},
   "source": [
    "__Q12. How do you pivot a Pandas DataFrame?__\n",
    "<br>Ans. The pivot() function is used to reshaped a given DataFrame organized by given index / column values. \n",
    "\n",
    "__Syntax :__ dataFrame.pivot(self, index=None, columns=None, values=None)\n",
    "<br>Parameters –\n",
    "  1. index: Column for making new frame’s index. If None, uses existing index.\n",
    "  2. columns: Column for new frame’s columns.\n",
    "  3. values: Column(s) for populating new frame’s values. If not specified, all remaining columns will be used and the result will have hierarchically indexed columns.\n"
   ]
  },
  {
   "cell_type": "code",
   "execution_count": 44,
   "id": "1f06a91e-f02c-4cc2-ae51-4e365e0aecd3",
   "metadata": {},
   "outputs": [
    {
     "data": {
      "text/html": [
       "<div>\n",
       "<style scoped>\n",
       "    .dataframe tbody tr th:only-of-type {\n",
       "        vertical-align: middle;\n",
       "    }\n",
       "\n",
       "    .dataframe tbody tr th {\n",
       "        vertical-align: top;\n",
       "    }\n",
       "\n",
       "    .dataframe thead th {\n",
       "        text-align: right;\n",
       "    }\n",
       "</style>\n",
       "<table border=\"1\" class=\"dataframe\">\n",
       "  <thead>\n",
       "    <tr style=\"text-align: right;\">\n",
       "      <th></th>\n",
       "      <th>Number</th>\n",
       "      <th>Alpha</th>\n",
       "      <th>Digit</th>\n",
       "      <th>Roman</th>\n",
       "    </tr>\n",
       "  </thead>\n",
       "  <tbody>\n",
       "    <tr>\n",
       "      <th>0</th>\n",
       "      <td>one</td>\n",
       "      <td>P</td>\n",
       "      <td>2</td>\n",
       "      <td>I</td>\n",
       "    </tr>\n",
       "    <tr>\n",
       "      <th>1</th>\n",
       "      <td>one</td>\n",
       "      <td>Q</td>\n",
       "      <td>3</td>\n",
       "      <td>IV</td>\n",
       "    </tr>\n",
       "    <tr>\n",
       "      <th>2</th>\n",
       "      <td>one</td>\n",
       "      <td>R</td>\n",
       "      <td>4</td>\n",
       "      <td>X</td>\n",
       "    </tr>\n",
       "    <tr>\n",
       "      <th>3</th>\n",
       "      <td>two</td>\n",
       "      <td>P</td>\n",
       "      <td>5</td>\n",
       "      <td>II</td>\n",
       "    </tr>\n",
       "    <tr>\n",
       "      <th>4</th>\n",
       "      <td>two</td>\n",
       "      <td>Q</td>\n",
       "      <td>6</td>\n",
       "      <td>V</td>\n",
       "    </tr>\n",
       "    <tr>\n",
       "      <th>5</th>\n",
       "      <td>two</td>\n",
       "      <td>R</td>\n",
       "      <td>7</td>\n",
       "      <td>IX</td>\n",
       "    </tr>\n",
       "  </tbody>\n",
       "</table>\n",
       "</div>"
      ],
      "text/plain": [
       "  Number Alpha  Digit Roman\n",
       "0    one     P      2     I\n",
       "1    one     Q      3    IV\n",
       "2    one     R      4     X\n",
       "3    two     P      5    II\n",
       "4    two     Q      6     V\n",
       "5    two     R      7    IX"
      ]
     },
     "metadata": {},
     "output_type": "display_data"
    },
    {
     "data": {
      "text/html": [
       "<div>\n",
       "<style scoped>\n",
       "    .dataframe tbody tr th:only-of-type {\n",
       "        vertical-align: middle;\n",
       "    }\n",
       "\n",
       "    .dataframe tbody tr th {\n",
       "        vertical-align: top;\n",
       "    }\n",
       "\n",
       "    .dataframe thead th {\n",
       "        text-align: right;\n",
       "    }\n",
       "</style>\n",
       "<table border=\"1\" class=\"dataframe\">\n",
       "  <thead>\n",
       "    <tr style=\"text-align: right;\">\n",
       "      <th>Alpha</th>\n",
       "      <th>P</th>\n",
       "      <th>Q</th>\n",
       "      <th>R</th>\n",
       "    </tr>\n",
       "    <tr>\n",
       "      <th>Number</th>\n",
       "      <th></th>\n",
       "      <th></th>\n",
       "      <th></th>\n",
       "    </tr>\n",
       "  </thead>\n",
       "  <tbody>\n",
       "    <tr>\n",
       "      <th>one</th>\n",
       "      <td>2</td>\n",
       "      <td>3</td>\n",
       "      <td>4</td>\n",
       "    </tr>\n",
       "    <tr>\n",
       "      <th>two</th>\n",
       "      <td>5</td>\n",
       "      <td>6</td>\n",
       "      <td>7</td>\n",
       "    </tr>\n",
       "  </tbody>\n",
       "</table>\n",
       "</div>"
      ],
      "text/plain": [
       "Alpha   P  Q  R\n",
       "Number         \n",
       "one     2  3  4\n",
       "two     5  6  7"
      ]
     },
     "execution_count": 44,
     "metadata": {},
     "output_type": "execute_result"
    }
   ],
   "source": [
    "df = pd.DataFrame({'Number': ['one', 'one', 'one', 'two', 'two',\n",
    "                           'two'],\n",
    "                   'Alpha': ['P', 'Q', 'R', 'P', 'Q', 'R'],\n",
    "                   'Digit': [2, 3, 4, 5, 6, 7],\n",
    "                   'Roman': ['I', 'IV', 'X', 'II', 'V', 'IX']})\n",
    "display(df)\n",
    "df.pivot(index='Number', columns='Alpha', values='Digit')"
   ]
  },
  {
   "cell_type": "code",
   "execution_count": 45,
   "id": "06b8699d-f815-4211-86c7-8964532fa5ce",
   "metadata": {},
   "outputs": [
    {
     "data": {
      "text/html": [
       "<div>\n",
       "<style scoped>\n",
       "    .dataframe tbody tr th:only-of-type {\n",
       "        vertical-align: middle;\n",
       "    }\n",
       "\n",
       "    .dataframe tbody tr th {\n",
       "        vertical-align: top;\n",
       "    }\n",
       "\n",
       "    .dataframe thead tr th {\n",
       "        text-align: left;\n",
       "    }\n",
       "\n",
       "    .dataframe thead tr:last-of-type th {\n",
       "        text-align: right;\n",
       "    }\n",
       "</style>\n",
       "<table border=\"1\" class=\"dataframe\">\n",
       "  <thead>\n",
       "    <tr>\n",
       "      <th></th>\n",
       "      <th colspan=\"3\" halign=\"left\">Digit</th>\n",
       "      <th colspan=\"3\" halign=\"left\">Roman</th>\n",
       "    </tr>\n",
       "    <tr>\n",
       "      <th>Alpha</th>\n",
       "      <th>P</th>\n",
       "      <th>Q</th>\n",
       "      <th>R</th>\n",
       "      <th>P</th>\n",
       "      <th>Q</th>\n",
       "      <th>R</th>\n",
       "    </tr>\n",
       "    <tr>\n",
       "      <th>Number</th>\n",
       "      <th></th>\n",
       "      <th></th>\n",
       "      <th></th>\n",
       "      <th></th>\n",
       "      <th></th>\n",
       "      <th></th>\n",
       "    </tr>\n",
       "  </thead>\n",
       "  <tbody>\n",
       "    <tr>\n",
       "      <th>one</th>\n",
       "      <td>2</td>\n",
       "      <td>3</td>\n",
       "      <td>4</td>\n",
       "      <td>I</td>\n",
       "      <td>IV</td>\n",
       "      <td>X</td>\n",
       "    </tr>\n",
       "    <tr>\n",
       "      <th>two</th>\n",
       "      <td>5</td>\n",
       "      <td>6</td>\n",
       "      <td>7</td>\n",
       "      <td>II</td>\n",
       "      <td>V</td>\n",
       "      <td>IX</td>\n",
       "    </tr>\n",
       "  </tbody>\n",
       "</table>\n",
       "</div>"
      ],
      "text/plain": [
       "       Digit       Roman        \n",
       "Alpha      P  Q  R     P   Q   R\n",
       "Number                          \n",
       "one        2  3  4     I  IV   X\n",
       "two        5  6  7    II   V  IX"
      ]
     },
     "execution_count": 45,
     "metadata": {},
     "output_type": "execute_result"
    }
   ],
   "source": [
    "# value with list\n",
    "df.pivot(index ='Number', columns ='Alpha', values =['Digit', 'Roman'])"
   ]
  },
  {
   "cell_type": "markdown",
   "id": "c4a7c5b0-77b3-4bed-9b2c-e3a0c2bf9cb2",
   "metadata": {},
   "source": [
    "__Q13. How do you change the data type of a column in a Pandas DataFrame?__\n",
    "<br>Ans. There are different ways of changing DataType for one or more columns in Pandas Dataframe.\n",
    "<br>*DataFrame.astype()* method is used to cast pandas object to a specified dtype.\n"
   ]
  },
  {
   "cell_type": "code",
   "execution_count": 47,
   "id": "c9032677-4824-48b8-ab96-6ccf0e5c555e",
   "metadata": {},
   "outputs": [
    {
     "name": "stdout",
     "output_type": "stream",
     "text": [
      "Name      object\n",
      "Marks    float64\n",
      "Grade     object\n",
      "Rank       int64\n",
      "dtype: object\n"
     ]
    }
   ],
   "source": [
    "# creating dataframe with different data\n",
    "ds3 = pd.DataFrame({'Name':['Raju', 'Divya', 'Geeta', 'Sita'],\n",
    "                    'Marks':[8, 9, 7.5, 8.5],\n",
    "                    'Grade':['A', 'A', 'B', 'A'],\n",
    "                    'Rank':[3, 1, 4, 2 ]})\n",
    "#show the datatypes\n",
    "print(ds3.dtypes)"
   ]
  },
  {
   "cell_type": "code",
   "execution_count": 48,
   "id": "72f10ef4-0b62-4c00-92d1-3d7f9dd9c95d",
   "metadata": {},
   "outputs": [
    {
     "name": "stdout",
     "output_type": "stream",
     "text": [
      "Name     object\n",
      "Marks    object\n",
      "Grade    object\n",
      "Rank     object\n",
      "dtype: object\n"
     ]
    }
   ],
   "source": [
    "# converting all columns to string type\n",
    "ds = ds3.astype(str)\n",
    "print(ds.dtypes)"
   ]
  },
  {
   "cell_type": "code",
   "execution_count": 59,
   "id": "467feb63-92fe-4211-abcb-8080431661ef",
   "metadata": {},
   "outputs": [
    {
     "name": "stdout",
     "output_type": "stream",
     "text": [
      "    Name  Marks Grade  Rank\n",
      "0   Raju      8     A     3\n",
      "1  Divya      9     A     1\n",
      "2  Geeta      7     B     4\n",
      "3   Sita      8     A     2\n",
      "Name     object\n",
      "Marks     int64\n",
      "Grade    object\n",
      "Rank      int64\n",
      "dtype: object\n"
     ]
    }
   ],
   "source": [
    "# convert data type of marks column into integer\n",
    "ds3.Marks = ds3.Marks.astype(int)\n",
    "\n",
    "# show the dataframe\n",
    "print(ds3)\n",
    "\n",
    "print(ds3.dtypes)"
   ]
  },
  {
   "cell_type": "markdown",
   "id": "8b95fd9c-ec44-4843-941c-4833bcbdf923",
   "metadata": {},
   "source": [
    "\n",
    "__Q14. How do you sort a Pandas DataFrame by a specific column?__\n",
    "<br>Ans.To sort the DataFrame based on the values in a single column, you’ll use *.sort_values()*. By default, this will return a new DataFrame sorted in ascending order. \n",
    "\n",
    "__Syntax :__ DataFrame.sort_values(by, axis=0, ascending=True, inplace=False, kind=’quicksort’, na_position=’last’)\n",
    "<br>Parameters :\n",
    "  1. by: Single/List of column names to sort Data Frame by.\n",
    "\n",
    "  2. axis: 0 or ‘index’ for rows and 1 or ‘columns’ for Column.\n",
    "\n",
    "  3. ascending: Boolean value which sorts Data frame in ascending order if True.\n",
    "\n",
    "  4. inplace: Boolean value. Makes the changes in passed data frame itself if True.\n",
    "\n",
    "  5. kind: String which can have three inputs(‘quicksort’, ‘mergesort’ or ‘heapsort’) of the algorithm used to sort data frame.\n",
    "\n",
    "  6. na_position: Takes two string input ‘last’ or ‘first’ to set position of Null values. Default is ‘last’."
   ]
  },
  {
   "cell_type": "code",
   "execution_count": 13,
   "id": "bb4fa75b-f5da-4f0b-bac6-27235c44cd85",
   "metadata": {},
   "outputs": [
    {
     "name": "stdout",
     "output_type": "stream",
     "text": [
      "   Courses    Fee Duration  Discount\n",
      "1    Spark  20000   40days      1000\n",
      "2   Hadoop  25000   40days      2500\n",
      "3   pandas  30000   35days      1500\n",
      "4     Java  22000   60days      1200\n",
      "5    Spark  26000   30days      2000\n",
      "6  Pyspark  26000   50days      3000\n",
      "   Courses    Fee Duration  Discount\n",
      "2   Hadoop  25000   40days      2500\n",
      "4     Java  22000   60days      1200\n",
      "6  Pyspark  26000   50days      3000\n",
      "1    Spark  20000   40days      1000\n",
      "5    Spark  26000   30days      2000\n",
      "3   pandas  30000   35days      1500\n"
     ]
    }
   ],
   "source": [
    "data = ({\n",
    "    'Courses':[\"Spark\",\"Hadoop\",\"pandas\",\"Java\",\"Spark\",\"Pyspark\"],\n",
    "    'Fee' :[20000,25000,30000,22000,26000, 26000],\n",
    "    'Duration':['40days','40days','35days','60days','30days','50days'],\n",
    "    'Discount':[1000,2500,1500,1200,2000,3000]\n",
    "               })\n",
    "df = pd.DataFrame(data, index = ['1','2','3','4','5','6'])\n",
    "print(df)\n",
    "\n",
    "\n",
    "# Sort the rows of dataframe by 'Courses' column\n",
    "df1 = df.sort_values('Courses')\n",
    "print(df1)"
   ]
  },
  {
   "cell_type": "code",
   "execution_count": 14,
   "id": "f9f729f8-a221-4e66-901e-254f2860ce4f",
   "metadata": {},
   "outputs": [
    {
     "name": "stdout",
     "output_type": "stream",
     "text": [
      "   Courses    Fee Duration  Discount\n",
      "3   pandas  30000   35days      1500\n",
      "1    Spark  20000   40days      1000\n",
      "5    Spark  26000   30days      2000\n",
      "6  Pyspark  26000   50days      3000\n",
      "4     Java  22000   60days      1200\n",
      "2   Hadoop  25000   40days      2500\n"
     ]
    }
   ],
   "source": [
    "# column in Descending Order\n",
    "df2=df.sort_values(by = 'Courses', ascending = False)\n",
    "print(df2)"
   ]
  },
  {
   "cell_type": "code",
   "execution_count": 15,
   "id": "d0f624d0-8b95-40a2-8b5f-6d2367b907ed",
   "metadata": {},
   "outputs": [
    {
     "name": "stdout",
     "output_type": "stream",
     "text": [
      "   Courses    Fee Duration  Discount\n",
      "2   Hadoop  25000   40days      2500\n",
      "4     Java  22000   60days      1200\n",
      "6  Pyspark  26000   50days      3000\n",
      "5    Spark  26000   30days      2000\n",
      "1    Spark  20000   40days      1000\n",
      "3   pandas  30000   35days      1500\n"
     ]
    }
   ],
   "source": [
    "# Sort by multiple columns\n",
    "df3 = df.sort_values(by=['Courses','Duration'])\n",
    "print(df3)"
   ]
  },
  {
   "cell_type": "code",
   "execution_count": 17,
   "id": "69e776a5-4a55-424f-94cd-b594c7344bb1",
   "metadata": {},
   "outputs": [
    {
     "name": "stdout",
     "output_type": "stream",
     "text": [
      "   Courses    Fee Duration  Discount\n",
      "0   Hadoop  25000   40days      2500\n",
      "1     Java  22000   60days      1200\n",
      "2  Pyspark  26000   50days      3000\n",
      "3    Spark  20000   40days      1000\n",
      "4    Spark  26000   30days      2000\n",
      "5   pandas  30000   35days      1500\n"
     ]
    }
   ],
   "source": [
    "# Sort and ignore index\n",
    "df4 = df.sort_values(by='Courses', ignore_index=True)\n",
    "print(df4)"
   ]
  },
  {
   "cell_type": "markdown",
   "id": "600e8feb-4257-47d3-bf79-9cd54c30ec2c",
   "metadata": {},
   "source": [
    "__Q15. How do you create a copy of a Pandas DataFrame?__\n",
    "<br>Ans. The copy() method returns a copy of the DataFrame.\n",
    "\n",
    "__Syntax :__ dataframe.copy(deep)\n",
    "<br>Parameter:\n",
    "  1. Deep:\tOptional. Specifies whether to make a deep or a shallow copy. By default (deep=True, any changes made in the original DataFrame will not be reflected in the copy.\n",
    "      - deep=False, it is only the reference to the data (and index) that will be copied, and any changes made in the original will be reflected in the copy, and, any changes made in the copy will be reflected in the original.\n"
   ]
  },
  {
   "cell_type": "code",
   "execution_count": 26,
   "id": "c147cab1-6b77-4aa5-b3ec-2cb0623b8249",
   "metadata": {},
   "outputs": [
    {
     "data": {
      "text/html": [
       "<div>\n",
       "<style scoped>\n",
       "    .dataframe tbody tr th:only-of-type {\n",
       "        vertical-align: middle;\n",
       "    }\n",
       "\n",
       "    .dataframe tbody tr th {\n",
       "        vertical-align: top;\n",
       "    }\n",
       "\n",
       "    .dataframe thead th {\n",
       "        text-align: right;\n",
       "    }\n",
       "</style>\n",
       "<table border=\"1\" class=\"dataframe\">\n",
       "  <thead>\n",
       "    <tr style=\"text-align: right;\">\n",
       "      <th></th>\n",
       "      <th>Name</th>\n",
       "      <th>Marks</th>\n",
       "    </tr>\n",
       "  </thead>\n",
       "  <tbody>\n",
       "    <tr>\n",
       "      <th>0</th>\n",
       "      <td>Raju</td>\n",
       "      <td>80</td>\n",
       "    </tr>\n",
       "    <tr>\n",
       "      <th>1</th>\n",
       "      <td>Rani</td>\n",
       "      <td>90</td>\n",
       "    </tr>\n",
       "    <tr>\n",
       "      <th>2</th>\n",
       "      <td>Geeta</td>\n",
       "      <td>75</td>\n",
       "    </tr>\n",
       "    <tr>\n",
       "      <th>3</th>\n",
       "      <td>Sita</td>\n",
       "      <td>88</td>\n",
       "    </tr>\n",
       "    <tr>\n",
       "      <th>4</th>\n",
       "      <td>Sohit</td>\n",
       "      <td>59</td>\n",
       "    </tr>\n",
       "  </tbody>\n",
       "</table>\n",
       "</div>"
      ],
      "text/plain": [
       "    Name  Marks\n",
       "0   Raju     80\n",
       "1   Rani     90\n",
       "2  Geeta     75\n",
       "3   Sita     88\n",
       "4  Sohit     59"
      ]
     },
     "metadata": {},
     "output_type": "display_data"
    },
    {
     "name": "stdout",
     "output_type": "stream",
     "text": [
      "    Name  Marks\n",
      "0   Raju     80\n",
      "1   Rani     90\n",
      "2  Geeta     75\n",
      "3   Sita     88\n",
      "4  Sohit     59\n"
     ]
    }
   ],
   "source": [
    "# creating a dataframe\n",
    "df = pd.DataFrame({'Name':['Raju', 'Rani', 'Geeta', 'Sita', 'Sohit'],\n",
    "                    'Marks':[80, 90, 75, 88, 59]})\n",
    "\n",
    "display(df)\n",
    "\n",
    "# copy the dataframe df to \n",
    "copy_df= df.copy(deep=True)\n",
    "print(copy_df)"
   ]
  },
  {
   "cell_type": "markdown",
   "id": "1ee83830-5427-4219-b18b-1586959dd542",
   "metadata": {},
   "source": [
    "__Q16. How do you filter rows of a Pandas DataFrame by multiple conditions?__\n",
    "<br>Ans. By using df[], loc[], query(), eval() and numpy.where() we can filter Pandas DataFrame by multiple conditions.\n"
   ]
  },
  {
   "cell_type": "code",
   "execution_count": 7,
   "id": "a34658a0-8d65-44e5-9ad4-16873ec364bf",
   "metadata": {},
   "outputs": [
    {
     "name": "stdout",
     "output_type": "stream",
     "text": [
      "  Courses    Fee Duration  Discount\n",
      "0   Spark  20000   40days      1000\n",
      "4   Spark  26000   30days      2000\n"
     ]
    }
   ],
   "source": [
    "data = ({\n",
    "    'Courses':[\"Spark\",\"Hadoop\",\"pandas\",\"Java\",\"Spark\",\"Pyspark\"],\n",
    "    'Fee' :[20000,25000,30000,22000,26000, 26000],\n",
    "    'Duration':['40days','40days','35days','60days','30days','50days'],\n",
    "    'Discount':[1000,2500,1500,1200,2000,3000]\n",
    "               })\n",
    "df = pd.DataFrame(data)\n",
    "# filter rows by a condition in pandas DataFrame using df\n",
    "df2=df[df[\"Courses\"] == 'Spark'] \n",
    "print(df2) "
   ]
  },
  {
   "cell_type": "code",
   "execution_count": 8,
   "id": "69127e04-dacb-4ab3-9244-dfaf8d883480",
   "metadata": {},
   "outputs": [
    {
     "name": "stdout",
     "output_type": "stream",
     "text": [
      "  Courses    Fee Duration  Discount\n",
      "0   Spark  20000   40days      1000\n",
      "4   Spark  26000   30days      2000\n"
     ]
    }
   ],
   "source": [
    "# filter rows by a condition in pandas DataFrame using query\n",
    "df2=df.query(\"Courses == 'Spark'\")\n",
    "print(df2)"
   ]
  },
  {
   "cell_type": "code",
   "execution_count": 9,
   "id": "4fd9247a-802b-4765-8dd5-920272a94cfc",
   "metadata": {},
   "outputs": [
    {
     "name": "stdout",
     "output_type": "stream",
     "text": [
      "  Courses    Fee Duration  Discount\n",
      "0   Spark  20000   40days      1000\n",
      "4   Spark  26000   30days      2000\n"
     ]
    }
   ],
   "source": [
    "# filter rows by a condition in pandas DataFrame using .loc\n",
    "df2=df.loc[df['Courses'] == \"Spark\"]\n",
    "print(df2)"
   ]
  },
  {
   "cell_type": "code",
   "execution_count": 14,
   "id": "2dba6466-8bfd-4e92-999b-42c4620205ac",
   "metadata": {},
   "outputs": [
    {
     "name": "stdout",
     "output_type": "stream",
     "text": [
      "  Courses    Fee Duration  Discount\n",
      "0   Spark  20000   40days      1000\n"
     ]
    }
   ],
   "source": [
    "# Use DataFrame.eval() to filter by multiple conditions\n",
    "df2 =df[df.eval(\"Fee <= 25000 & (Discount < 2300) & Courses.str.startswith('S').values\")]\n",
    "print(df2)            \n"
   ]
  },
  {
   "cell_type": "code",
   "execution_count": 15,
   "id": "7a36a9f6-1f96-4273-b647-e2d113c428be",
   "metadata": {},
   "outputs": [
    {
     "name": "stdout",
     "output_type": "stream",
     "text": [
      "  Courses    Fee Duration  Discount\n",
      "1  Hadoop  25000   40days      2500\n"
     ]
    }
   ],
   "source": [
    "# Use DataFrame.query() to filter by multiple conditions\n",
    "df2 = df.query('Fee  >= 22000 & Discount < 3000 & Courses.str.startswith(\"H\").values')\n",
    "print(df2)            \n"
   ]
  },
  {
   "cell_type": "markdown",
   "id": "a3d8c483-82a7-4606-817c-867f2605d92c",
   "metadata": {},
   "source": [
    "__Q17. How do you calculate the mean of a column in a Pandas DataFrame?__\n",
    "<br>Ans. Pandas *dataframe.mean()* function return the mean of the values for the requested axis.\n",
    "\n",
    " __Syntax :__ DataFrame.mean(axis=None, skipna=None, level=None, numeric_only=None, **kwargs)\n",
    "<br>Parameters :\n",
    "  1. axis : {index (0), columns (1)}\n",
    "  2. skipna : Exclude NA/null values when computing the result\n",
    "  3. level : If the axis is a MultiIndex (hierarchical), count along a particular level, collapsing into a Series\n",
    "  4. numeric_only : Include only float, int, boolean columns. If None, will attempt to use everything, then use only numeric data. Not implemented for Series.\n",
    "\n"
   ]
  },
  {
   "cell_type": "code",
   "execution_count": 29,
   "id": "705d2b3f-3ecd-4448-8148-4cee2a21ba3e",
   "metadata": {},
   "outputs": [
    {
     "data": {
      "text/html": [
       "<div>\n",
       "<style scoped>\n",
       "    .dataframe tbody tr th:only-of-type {\n",
       "        vertical-align: middle;\n",
       "    }\n",
       "\n",
       "    .dataframe tbody tr th {\n",
       "        vertical-align: top;\n",
       "    }\n",
       "\n",
       "    .dataframe thead th {\n",
       "        text-align: right;\n",
       "    }\n",
       "</style>\n",
       "<table border=\"1\" class=\"dataframe\">\n",
       "  <thead>\n",
       "    <tr style=\"text-align: right;\">\n",
       "      <th></th>\n",
       "      <th>A</th>\n",
       "      <th>B</th>\n",
       "      <th>C</th>\n",
       "      <th>D</th>\n",
       "    </tr>\n",
       "  </thead>\n",
       "  <tbody>\n",
       "    <tr>\n",
       "      <th>0</th>\n",
       "      <td>12</td>\n",
       "      <td>5</td>\n",
       "      <td>20</td>\n",
       "      <td>14</td>\n",
       "    </tr>\n",
       "    <tr>\n",
       "      <th>1</th>\n",
       "      <td>4</td>\n",
       "      <td>2</td>\n",
       "      <td>16</td>\n",
       "      <td>3</td>\n",
       "    </tr>\n",
       "    <tr>\n",
       "      <th>2</th>\n",
       "      <td>5</td>\n",
       "      <td>54</td>\n",
       "      <td>7</td>\n",
       "      <td>17</td>\n",
       "    </tr>\n",
       "    <tr>\n",
       "      <th>3</th>\n",
       "      <td>44</td>\n",
       "      <td>3</td>\n",
       "      <td>3</td>\n",
       "      <td>2</td>\n",
       "    </tr>\n",
       "    <tr>\n",
       "      <th>4</th>\n",
       "      <td>1</td>\n",
       "      <td>2</td>\n",
       "      <td>8</td>\n",
       "      <td>6</td>\n",
       "    </tr>\n",
       "  </tbody>\n",
       "</table>\n",
       "</div>"
      ],
      "text/plain": [
       "    A   B   C   D\n",
       "0  12   5  20  14\n",
       "1   4   2  16   3\n",
       "2   5  54   7  17\n",
       "3  44   3   3   2\n",
       "4   1   2   8   6"
      ]
     },
     "metadata": {},
     "output_type": "display_data"
    },
    {
     "name": "stdout",
     "output_type": "stream",
     "text": [
      "A    13.2\n",
      "B    13.2\n",
      "C    10.8\n",
      "D     8.4\n",
      "dtype: float64\n"
     ]
    }
   ],
   "source": [
    "# Creating the dataframe \n",
    "df = pd.DataFrame({\"A\":[12, 4, 5, 44, 1],\n",
    "                   \"B\":[5, 2, 54, 3, 2], \n",
    "                   \"C\":[20, 16, 7, 3, 8],\n",
    "                   \"D\":[14, 3, 17, 2, 6]})\n",
    "display(df)\n",
    "# Using DataFrame.mean() to get entire column mean\n",
    "df2 = df.mean()\n",
    "print(df2)"
   ]
  },
  {
   "cell_type": "code",
   "execution_count": 17,
   "id": "c180ff81-173d-402e-97e7-ccd9e9565dd2",
   "metadata": {},
   "outputs": [
    {
     "name": "stdout",
     "output_type": "stream",
     "text": [
      "10.8\n"
     ]
    }
   ],
   "source": [
    "# Using DataFrame.mean() method to get column average\n",
    "df2 = df[\"C\"].mean()\n",
    "print(df2)\n"
   ]
  },
  {
   "cell_type": "code",
   "execution_count": 18,
   "id": "87ca0f81-56fd-47c7-9538-f06ee94a9c64",
   "metadata": {},
   "outputs": [
    {
     "name": "stdout",
     "output_type": "stream",
     "text": [
      "A    13.2\n",
      "D     8.4\n",
      "dtype: float64\n"
     ]
    }
   ],
   "source": [
    "# Using multiple columns mean using DataFrame.mean()\n",
    "df2 = df[[\"A\",\"D\"]].mean()\n",
    "print(df2)"
   ]
  },
  {
   "cell_type": "code",
   "execution_count": 4,
   "id": "50510734-6c4f-45cc-9f4d-6b88d8271a2a",
   "metadata": {},
   "outputs": [
    {
     "data": {
      "text/plain": [
       "0    13.250000\n",
       "1     6.250000\n",
       "2    23.333333\n",
       "3     2.666667\n",
       "4     5.000000\n",
       "dtype: float64"
      ]
     },
     "execution_count": 4,
     "metadata": {},
     "output_type": "execute_result"
    }
   ],
   "source": [
    "# Creating the dataframe \n",
    "df = pd.DataFrame({\"A\":[12, 4, 5, None, 1],\n",
    "                   \"B\":[7, 2, 54, 3, None],\n",
    "                   \"C\":[20, 16, 11, 3, 8],\n",
    "                   \"D\":[14, 3, None, 2, 6]})\n",
    "  \n",
    "# skip the Na values while finding the mean\n",
    "df.mean(axis = 1, skipna = True)"
   ]
  },
  {
   "cell_type": "markdown",
   "id": "9054f8ed-1b4a-4f29-bea2-bdbae48e236c",
   "metadata": {},
   "source": [
    "__Q18. How do you calculate the standard deviation of a column in a Pandas DataFrame?__\n",
    "<br>Ans. DataFrame.std() function to calculate the standard deviation of values in a pandas DataFrame.\n",
    "  - Calculate Standard Deviation of All Numeric Columns: *df.std()*\n",
    "  - Calculate Standard Deviation of One Column: *df['column_name'].std()*\n",
    "  - Calculate Standard Deviation of Multiple Columns: *df[['column_name1','column_name2']].std()*\n",
    "\n"
   ]
  },
  {
   "cell_type": "code",
   "execution_count": 32,
   "id": "36e71a04-bcd3-4f5e-9d94-7277df17f2ff",
   "metadata": {},
   "outputs": [
    {
     "data": {
      "text/html": [
       "<div>\n",
       "<style scoped>\n",
       "    .dataframe tbody tr th:only-of-type {\n",
       "        vertical-align: middle;\n",
       "    }\n",
       "\n",
       "    .dataframe tbody tr th {\n",
       "        vertical-align: top;\n",
       "    }\n",
       "\n",
       "    .dataframe thead th {\n",
       "        text-align: right;\n",
       "    }\n",
       "</style>\n",
       "<table border=\"1\" class=\"dataframe\">\n",
       "  <thead>\n",
       "    <tr style=\"text-align: right;\">\n",
       "      <th></th>\n",
       "      <th>A</th>\n",
       "      <th>B</th>\n",
       "      <th>C</th>\n",
       "      <th>D</th>\n",
       "    </tr>\n",
       "  </thead>\n",
       "  <tbody>\n",
       "    <tr>\n",
       "      <th>0</th>\n",
       "      <td>12</td>\n",
       "      <td>5</td>\n",
       "      <td>20</td>\n",
       "      <td>14</td>\n",
       "    </tr>\n",
       "    <tr>\n",
       "      <th>1</th>\n",
       "      <td>4</td>\n",
       "      <td>2</td>\n",
       "      <td>16</td>\n",
       "      <td>3</td>\n",
       "    </tr>\n",
       "    <tr>\n",
       "      <th>2</th>\n",
       "      <td>5</td>\n",
       "      <td>54</td>\n",
       "      <td>7</td>\n",
       "      <td>17</td>\n",
       "    </tr>\n",
       "    <tr>\n",
       "      <th>3</th>\n",
       "      <td>44</td>\n",
       "      <td>3</td>\n",
       "      <td>3</td>\n",
       "      <td>2</td>\n",
       "    </tr>\n",
       "    <tr>\n",
       "      <th>4</th>\n",
       "      <td>1</td>\n",
       "      <td>2</td>\n",
       "      <td>8</td>\n",
       "      <td>6</td>\n",
       "    </tr>\n",
       "  </tbody>\n",
       "</table>\n",
       "</div>"
      ],
      "text/plain": [
       "    A   B   C   D\n",
       "0  12   5  20  14\n",
       "1   4   2  16   3\n",
       "2   5  54   7  17\n",
       "3  44   3   3   2\n",
       "4   1   2   8   6"
      ]
     },
     "metadata": {},
     "output_type": "display_data"
    },
    {
     "name": "stdout",
     "output_type": "stream",
     "text": [
      "A    17.683325\n",
      "B    22.840753\n",
      "C     6.978539\n",
      "D     6.730527\n",
      "dtype: float64\n"
     ]
    }
   ],
   "source": [
    "# Creating the dataframe \n",
    "df = pd.DataFrame({\"A\":[12, 4, 5, 44, 1],\n",
    "                   \"B\":[5, 2, 54, 3, 2], \n",
    "                   \"C\":[20, 16, 7, 3, 8],\n",
    "                   \"D\":[14, 3, 17, 2, 6]})\n",
    "display(df)\n",
    "# Using DataFrame.std() to get entire column \n",
    "df2 = df.std()\n",
    "print(df2)"
   ]
  },
  {
   "cell_type": "code",
   "execution_count": 31,
   "id": "b58620bc-e661-431e-8268-948d3461458d",
   "metadata": {},
   "outputs": [
    {
     "data": {
      "text/plain": [
       "0     5.377422\n",
       "1     6.551081\n",
       "2    26.727015\n",
       "3     0.577350\n",
       "4     3.605551\n",
       "dtype: float64"
      ]
     },
     "execution_count": 31,
     "metadata": {},
     "output_type": "execute_result"
    }
   ],
   "source": [
    "# Creating the dataframe \n",
    "df = pd.DataFrame({\"A\":[12, 4, 5, None, 1],\n",
    "                   \"B\":[7, 2, 54, 3, None],\n",
    "                   \"C\":[20, 16, 11, 3, 8],\n",
    "                   \"D\":[14, 3, None, 2, 6]})\n",
    "  \n",
    "# skip the Na values while finding the std\n",
    "df.std(axis = 1, skipna = True)"
   ]
  },
  {
   "cell_type": "markdown",
   "id": "eefa5782-3aed-494f-ae7c-ff3d6f053149",
   "metadata": {},
   "source": [
    "__Q19. How do you calculate the correlation between two columns in a Pandas DataFrame?__\n",
    "<br>Ans. Pandas dataframe.corr() is used to find the pairwise correlation of all columns in the Pandas Dataframe in Python. Any NaN values are automatically excluded. Any non-numeric data type or columns in the Dataframe, it is ignored.\n",
    " \n",
    " __Syntax :__ DataFrame.corr(self, method=’pearson’, min_periods=1) \n",
    "<br>Parameters: \n",
    " 1. method: \n",
    "    - pearson: standard correlation coefficient \n",
    "    - kendall: Kendall Tau correlation coefficient \n",
    "    - spearman: Spearman rank correlation\n",
    " 2. min_periods: Minimum number of observations required per pair of columns to have a valid result. Currently only available for pearson and spearman correlation \n",
    "\n"
   ]
  },
  {
   "cell_type": "code",
   "execution_count": 33,
   "id": "ff008cc0-4299-4b92-8f87-4dc9c4b24978",
   "metadata": {},
   "outputs": [
    {
     "data": {
      "text/html": [
       "<div>\n",
       "<style scoped>\n",
       "    .dataframe tbody tr th:only-of-type {\n",
       "        vertical-align: middle;\n",
       "    }\n",
       "\n",
       "    .dataframe tbody tr th {\n",
       "        vertical-align: top;\n",
       "    }\n",
       "\n",
       "    .dataframe thead th {\n",
       "        text-align: right;\n",
       "    }\n",
       "</style>\n",
       "<table border=\"1\" class=\"dataframe\">\n",
       "  <thead>\n",
       "    <tr style=\"text-align: right;\">\n",
       "      <th></th>\n",
       "      <th>A</th>\n",
       "      <th>B</th>\n",
       "      <th>C</th>\n",
       "      <th>D</th>\n",
       "    </tr>\n",
       "  </thead>\n",
       "  <tbody>\n",
       "    <tr>\n",
       "      <th>0</th>\n",
       "      <td>12</td>\n",
       "      <td>5</td>\n",
       "      <td>20</td>\n",
       "      <td>14</td>\n",
       "    </tr>\n",
       "    <tr>\n",
       "      <th>1</th>\n",
       "      <td>4</td>\n",
       "      <td>2</td>\n",
       "      <td>16</td>\n",
       "      <td>3</td>\n",
       "    </tr>\n",
       "    <tr>\n",
       "      <th>2</th>\n",
       "      <td>5</td>\n",
       "      <td>54</td>\n",
       "      <td>7</td>\n",
       "      <td>17</td>\n",
       "    </tr>\n",
       "    <tr>\n",
       "      <th>3</th>\n",
       "      <td>44</td>\n",
       "      <td>3</td>\n",
       "      <td>3</td>\n",
       "      <td>2</td>\n",
       "    </tr>\n",
       "    <tr>\n",
       "      <th>4</th>\n",
       "      <td>1</td>\n",
       "      <td>2</td>\n",
       "      <td>8</td>\n",
       "      <td>6</td>\n",
       "    </tr>\n",
       "  </tbody>\n",
       "</table>\n",
       "</div>"
      ],
      "text/plain": [
       "    A   B   C   D\n",
       "0  12   5  20  14\n",
       "1   4   2  16   3\n",
       "2   5  54   7  17\n",
       "3  44   3   3   2\n",
       "4   1   2   8   6"
      ]
     },
     "metadata": {},
     "output_type": "display_data"
    },
    {
     "name": "stdout",
     "output_type": "stream",
     "text": [
      "          A         B         C         D\n",
      "A  1.000000 -0.247091 -0.473648 -0.410442\n",
      "B -0.247091  1.000000 -0.278867  0.744160\n",
      "C -0.473648 -0.278867  1.000000  0.252293\n",
      "D -0.410442  0.744160  0.252293  1.000000\n"
     ]
    }
   ],
   "source": [
    "# Creating the dataframe \n",
    "df = pd.DataFrame({\"A\":[12, 4, 5, 44, 1],\n",
    "                   \"B\":[5, 2, 54, 3, 2], \n",
    "                   \"C\":[20, 16, 7, 3, 8],\n",
    "                   \"D\":[14, 3, 17, 2, 6]})\n",
    "display(df)\n",
    "# Correlation between all the columns of DataFrame.\n",
    "df2 = df.corr()\n",
    "print(df2)"
   ]
  },
  {
   "cell_type": "code",
   "execution_count": 35,
   "id": "a083bb54-42fc-4ff2-bef4-2045164f2c66",
   "metadata": {},
   "outputs": [
    {
     "name": "stdout",
     "output_type": "stream",
     "text": [
      "-0.4104417460156906\n"
     ]
    }
   ],
   "source": [
    "# Correlation between two columns of DataFrame.\n",
    "corr=df['A'].corr(df['D'])\n",
    "print(corr)"
   ]
  },
  {
   "cell_type": "markdown",
   "id": "e3cf742d-20ff-4705-b4dd-34d6e71cd8ce",
   "metadata": {},
   "source": [
    "__Q20. How do you select specific columns in a DataFrame using their labels?__\n",
    "<br>Ans. The basic way to select a single column from a dataframe, just put the string name of the column in brackets[], *df['columnname']*\n",
    "<br>Passing a list in the brackets lets you select multiple columns at the same time, *df['columnname1','columnname2','columnname3']*\n",
    "<br>The .loc[] function selects the data by labels of rows or columns.\n",
    "  - To select single column: *df.loc[['columnname']]*\n",
    "  - To select multiple columns: *df.loc[['columnname1','columnname2','columnname3']]*\n",
    "  - To select all rows and particular list of columns: *df.loc[:,['columnname1','columnname2','columnname3']]*\n",
    "\n"
   ]
  },
  {
   "cell_type": "code",
   "execution_count": 3,
   "id": "e1b84b0f-0597-437f-ac40-0237a231f535",
   "metadata": {},
   "outputs": [
    {
     "data": {
      "text/html": [
       "<div>\n",
       "<style scoped>\n",
       "    .dataframe tbody tr th:only-of-type {\n",
       "        vertical-align: middle;\n",
       "    }\n",
       "\n",
       "    .dataframe tbody tr th {\n",
       "        vertical-align: top;\n",
       "    }\n",
       "\n",
       "    .dataframe thead th {\n",
       "        text-align: right;\n",
       "    }\n",
       "</style>\n",
       "<table border=\"1\" class=\"dataframe\">\n",
       "  <thead>\n",
       "    <tr style=\"text-align: right;\">\n",
       "      <th></th>\n",
       "      <th>Courses</th>\n",
       "      <th>Fee</th>\n",
       "      <th>Duration</th>\n",
       "      <th>Discount</th>\n",
       "    </tr>\n",
       "  </thead>\n",
       "  <tbody>\n",
       "    <tr>\n",
       "      <th>0</th>\n",
       "      <td>Spark</td>\n",
       "      <td>20000</td>\n",
       "      <td>40days</td>\n",
       "      <td>1000</td>\n",
       "    </tr>\n",
       "    <tr>\n",
       "      <th>1</th>\n",
       "      <td>Hadoop</td>\n",
       "      <td>25000</td>\n",
       "      <td>40days</td>\n",
       "      <td>2500</td>\n",
       "    </tr>\n",
       "    <tr>\n",
       "      <th>2</th>\n",
       "      <td>pandas</td>\n",
       "      <td>30000</td>\n",
       "      <td>35days</td>\n",
       "      <td>1500</td>\n",
       "    </tr>\n",
       "    <tr>\n",
       "      <th>3</th>\n",
       "      <td>Java</td>\n",
       "      <td>22000</td>\n",
       "      <td>60days</td>\n",
       "      <td>1200</td>\n",
       "    </tr>\n",
       "    <tr>\n",
       "      <th>4</th>\n",
       "      <td>Spark</td>\n",
       "      <td>26000</td>\n",
       "      <td>30days</td>\n",
       "      <td>2000</td>\n",
       "    </tr>\n",
       "    <tr>\n",
       "      <th>5</th>\n",
       "      <td>Pyspark</td>\n",
       "      <td>26000</td>\n",
       "      <td>50days</td>\n",
       "      <td>3000</td>\n",
       "    </tr>\n",
       "  </tbody>\n",
       "</table>\n",
       "</div>"
      ],
      "text/plain": [
       "   Courses    Fee Duration  Discount\n",
       "0    Spark  20000   40days      1000\n",
       "1   Hadoop  25000   40days      2500\n",
       "2   pandas  30000   35days      1500\n",
       "3     Java  22000   60days      1200\n",
       "4    Spark  26000   30days      2000\n",
       "5  Pyspark  26000   50days      3000"
      ]
     },
     "metadata": {},
     "output_type": "display_data"
    },
    {
     "data": {
      "text/plain": [
       "0      Spark\n",
       "1     Hadoop\n",
       "2     pandas\n",
       "3       Java\n",
       "4      Spark\n",
       "5    Pyspark\n",
       "Name: Courses, dtype: object"
      ]
     },
     "metadata": {},
     "output_type": "display_data"
    }
   ],
   "source": [
    "data = ({\n",
    "    'Courses':[\"Spark\",\"Hadoop\",\"pandas\",\"Java\",\"Spark\",\"Pyspark\"],\n",
    "    'Fee' :[20000,25000,30000,22000,26000, 26000],\n",
    "    'Duration':['40days','40days','35days','60days','30days','50days'],\n",
    "    'Discount':[1000,2500,1500,1200,2000,3000]\n",
    "               })\n",
    "df = pd.DataFrame(data)\n",
    "display(df)\n",
    "\n",
    "# Using the operator [] to select a column\n",
    "rlt = df[\"Courses\"]\n",
    "display(rlt) \n"
   ]
  },
  {
   "cell_type": "code",
   "execution_count": 39,
   "id": "674fe760-6566-4c62-85b4-62b4ecd91ce9",
   "metadata": {},
   "outputs": [
    {
     "data": {
      "text/html": [
       "<div>\n",
       "<style scoped>\n",
       "    .dataframe tbody tr th:only-of-type {\n",
       "        vertical-align: middle;\n",
       "    }\n",
       "\n",
       "    .dataframe tbody tr th {\n",
       "        vertical-align: top;\n",
       "    }\n",
       "\n",
       "    .dataframe thead th {\n",
       "        text-align: right;\n",
       "    }\n",
       "</style>\n",
       "<table border=\"1\" class=\"dataframe\">\n",
       "  <thead>\n",
       "    <tr style=\"text-align: right;\">\n",
       "      <th></th>\n",
       "      <th>Courses</th>\n",
       "      <th>Fee</th>\n",
       "    </tr>\n",
       "  </thead>\n",
       "  <tbody>\n",
       "    <tr>\n",
       "      <th>0</th>\n",
       "      <td>Spark</td>\n",
       "      <td>20000</td>\n",
       "    </tr>\n",
       "    <tr>\n",
       "      <th>1</th>\n",
       "      <td>Hadoop</td>\n",
       "      <td>25000</td>\n",
       "    </tr>\n",
       "    <tr>\n",
       "      <th>2</th>\n",
       "      <td>pandas</td>\n",
       "      <td>30000</td>\n",
       "    </tr>\n",
       "    <tr>\n",
       "      <th>3</th>\n",
       "      <td>Java</td>\n",
       "      <td>22000</td>\n",
       "    </tr>\n",
       "    <tr>\n",
       "      <th>4</th>\n",
       "      <td>Spark</td>\n",
       "      <td>26000</td>\n",
       "    </tr>\n",
       "    <tr>\n",
       "      <th>5</th>\n",
       "      <td>Pyspark</td>\n",
       "      <td>26000</td>\n",
       "    </tr>\n",
       "  </tbody>\n",
       "</table>\n",
       "</div>"
      ],
      "text/plain": [
       "   Courses    Fee\n",
       "0    Spark  20000\n",
       "1   Hadoop  25000\n",
       "2   pandas  30000\n",
       "3     Java  22000\n",
       "4    Spark  26000\n",
       "5  Pyspark  26000"
      ]
     },
     "metadata": {},
     "output_type": "display_data"
    }
   ],
   "source": [
    "# By using df[] Notation select multile columns\n",
    "df2 = df[[\"Courses\",\"Fee\"]] \n",
    "display(df2) "
   ]
  },
  {
   "cell_type": "code",
   "execution_count": 4,
   "id": "6c6982f3-ab07-4def-9ef1-03fdb892e5e9",
   "metadata": {},
   "outputs": [
    {
     "data": {
      "text/html": [
       "<div>\n",
       "<style scoped>\n",
       "    .dataframe tbody tr th:only-of-type {\n",
       "        vertical-align: middle;\n",
       "    }\n",
       "\n",
       "    .dataframe tbody tr th {\n",
       "        vertical-align: top;\n",
       "    }\n",
       "\n",
       "    .dataframe thead th {\n",
       "        text-align: right;\n",
       "    }\n",
       "</style>\n",
       "<table border=\"1\" class=\"dataframe\">\n",
       "  <thead>\n",
       "    <tr style=\"text-align: right;\">\n",
       "      <th></th>\n",
       "      <th>Courses</th>\n",
       "      <th>Fee</th>\n",
       "      <th>Discount</th>\n",
       "    </tr>\n",
       "  </thead>\n",
       "  <tbody>\n",
       "    <tr>\n",
       "      <th>0</th>\n",
       "      <td>Spark</td>\n",
       "      <td>20000</td>\n",
       "      <td>1000</td>\n",
       "    </tr>\n",
       "    <tr>\n",
       "      <th>1</th>\n",
       "      <td>Hadoop</td>\n",
       "      <td>25000</td>\n",
       "      <td>2500</td>\n",
       "    </tr>\n",
       "    <tr>\n",
       "      <th>2</th>\n",
       "      <td>pandas</td>\n",
       "      <td>30000</td>\n",
       "      <td>1500</td>\n",
       "    </tr>\n",
       "    <tr>\n",
       "      <th>3</th>\n",
       "      <td>Java</td>\n",
       "      <td>22000</td>\n",
       "      <td>1200</td>\n",
       "    </tr>\n",
       "    <tr>\n",
       "      <th>4</th>\n",
       "      <td>Spark</td>\n",
       "      <td>26000</td>\n",
       "      <td>2000</td>\n",
       "    </tr>\n",
       "    <tr>\n",
       "      <th>5</th>\n",
       "      <td>Pyspark</td>\n",
       "      <td>26000</td>\n",
       "      <td>3000</td>\n",
       "    </tr>\n",
       "  </tbody>\n",
       "</table>\n",
       "</div>"
      ],
      "text/plain": [
       "   Courses    Fee  Discount\n",
       "0    Spark  20000      1000\n",
       "1   Hadoop  25000      2500\n",
       "2   pandas  30000      1500\n",
       "3     Java  22000      1200\n",
       "4    Spark  26000      2000\n",
       "5  Pyspark  26000      3000"
      ]
     },
     "metadata": {},
     "output_type": "display_data"
    }
   ],
   "source": [
    "# Select Random columns # Select columns by range\n",
    "df2 = df.loc[:, [\"Courses\",\"Fee\",\"Discount\"]] \n",
    "display(df2) "
   ]
  },
  {
   "cell_type": "markdown",
   "id": "5de87ce3-3a8b-43e8-9aed-08e495e92a5b",
   "metadata": {},
   "source": [
    "__Q21. How do you select specific rows in a DataFrame using their indexes?__\n",
    "<br>Ans. One can select a single row from pandas DataFrame by integer index using *df.iloc[r]*. Replace r with a position you wanted to select.\n",
    "<br>Multiple rows from DataFrame can be selected by specifying indexes as a list. You can do this by *df.iloc[[r1, r2, r3]]*. r1,r2,r3 are indices.\n",
    "<br>DataFrame can be selected by the range of Indexes, provide start and stop indexes, *df.iloc[startindex: stopindex]*\n",
    "\n"
   ]
  },
  {
   "cell_type": "code",
   "execution_count": 6,
   "id": "bb8e4329-bef7-4efc-8979-83ded12b1607",
   "metadata": {},
   "outputs": [
    {
     "data": {
      "text/html": [
       "<div>\n",
       "<style scoped>\n",
       "    .dataframe tbody tr th:only-of-type {\n",
       "        vertical-align: middle;\n",
       "    }\n",
       "\n",
       "    .dataframe tbody tr th {\n",
       "        vertical-align: top;\n",
       "    }\n",
       "\n",
       "    .dataframe thead th {\n",
       "        text-align: right;\n",
       "    }\n",
       "</style>\n",
       "<table border=\"1\" class=\"dataframe\">\n",
       "  <thead>\n",
       "    <tr style=\"text-align: right;\">\n",
       "      <th></th>\n",
       "      <th>Courses</th>\n",
       "      <th>Fee</th>\n",
       "      <th>Duration</th>\n",
       "      <th>Discount</th>\n",
       "    </tr>\n",
       "  </thead>\n",
       "  <tbody>\n",
       "    <tr>\n",
       "      <th>0</th>\n",
       "      <td>Spark</td>\n",
       "      <td>20000</td>\n",
       "      <td>40days</td>\n",
       "      <td>1000</td>\n",
       "    </tr>\n",
       "    <tr>\n",
       "      <th>1</th>\n",
       "      <td>Hadoop</td>\n",
       "      <td>25000</td>\n",
       "      <td>40days</td>\n",
       "      <td>2500</td>\n",
       "    </tr>\n",
       "    <tr>\n",
       "      <th>2</th>\n",
       "      <td>pandas</td>\n",
       "      <td>30000</td>\n",
       "      <td>35days</td>\n",
       "      <td>1500</td>\n",
       "    </tr>\n",
       "    <tr>\n",
       "      <th>3</th>\n",
       "      <td>Java</td>\n",
       "      <td>22000</td>\n",
       "      <td>60days</td>\n",
       "      <td>1200</td>\n",
       "    </tr>\n",
       "    <tr>\n",
       "      <th>4</th>\n",
       "      <td>Spark</td>\n",
       "      <td>26000</td>\n",
       "      <td>30days</td>\n",
       "      <td>2000</td>\n",
       "    </tr>\n",
       "    <tr>\n",
       "      <th>5</th>\n",
       "      <td>Pyspark</td>\n",
       "      <td>26000</td>\n",
       "      <td>50days</td>\n",
       "      <td>3000</td>\n",
       "    </tr>\n",
       "  </tbody>\n",
       "</table>\n",
       "</div>"
      ],
      "text/plain": [
       "   Courses    Fee Duration  Discount\n",
       "0    Spark  20000   40days      1000\n",
       "1   Hadoop  25000   40days      2500\n",
       "2   pandas  30000   35days      1500\n",
       "3     Java  22000   60days      1200\n",
       "4    Spark  26000   30days      2000\n",
       "5  Pyspark  26000   50days      3000"
      ]
     },
     "metadata": {},
     "output_type": "display_data"
    },
    {
     "data": {
      "text/plain": [
       "Courses     pandas\n",
       "Fee          30000\n",
       "Duration    35days\n",
       "Discount      1500\n",
       "Name: 2, dtype: object"
      ]
     },
     "metadata": {},
     "output_type": "display_data"
    }
   ],
   "source": [
    "data = ({\n",
    "    'Courses':[\"Spark\",\"Hadoop\",\"pandas\",\"Java\",\"Spark\",\"Pyspark\"],\n",
    "    'Fee' :[20000,25000,30000,22000,26000, 26000],\n",
    "    'Duration':['40days','40days','35days','60days','30days','50days'],\n",
    "    'Discount':[1000,2500,1500,1200,2000,3000]\n",
    "               })\n",
    "df = pd.DataFrame(data)\n",
    "display(df)\n",
    "# Select Row by Integer Index\n",
    "display(df.iloc[2])"
   ]
  },
  {
   "cell_type": "code",
   "execution_count": 9,
   "id": "6c75e38b-1636-414c-8f46-92b39d1266c9",
   "metadata": {},
   "outputs": [
    {
     "name": "stdout",
     "output_type": "stream",
     "text": [
      "   Courses    Fee Duration  Discount\n",
      "2   pandas  30000   35days      1500\n",
      "3     Java  22000   60days      1200\n",
      "5  Pyspark  26000   50days      3000\n"
     ]
    }
   ],
   "source": [
    "# Select Rows by Index List\n",
    "print(df.iloc[[2,3,5]])"
   ]
  },
  {
   "cell_type": "code",
   "execution_count": 10,
   "id": "23532170-83d0-4a75-ace6-07c194370da1",
   "metadata": {},
   "outputs": [
    {
     "name": "stdout",
     "output_type": "stream",
     "text": [
      "  Courses    Fee Duration  Discount\n",
      "1  Hadoop  25000   40days      2500\n",
      "2  pandas  30000   35days      1500\n",
      "3    Java  22000   60days      1200\n"
     ]
    }
   ],
   "source": [
    "# Select Rows by Integer Index Range\n",
    "print(df.iloc[1:4])"
   ]
  },
  {
   "cell_type": "markdown",
   "id": "844be9a4-31eb-499d-82c5-69125b00859c",
   "metadata": {},
   "source": [
    "__Q22. How do you sort a DataFrame by a specific column?__\n",
    "<br>Ans. To sort the DataFrame based on the values in a single column, you’ll use *.sort_values()*. By default, this will return a new DataFrame sorted in ascending order. \n",
    "\n",
    " __Syntax :__ DataFrame.sort_values(by, axis=0, ascending=True, inplace=False, kind=’quicksort’, na_position=’last’)\n",
    "<br>Parameters :\n",
    "  1. by: Single/List of column names to sort Data Frame by.\n",
    "\n",
    "  2. axis: 0 or ‘index’ for rows and 1 or ‘columns’ for Column.\n",
    "\n",
    "  3. ascending: Boolean value which sorts Data frame in ascending order if True.\n",
    "\n",
    "  4. inplace: Boolean value. Makes the changes in passed data frame itself if True.\n",
    "\n",
    "  5. kind: String which can have three inputs(‘quicksort’, ‘mergesort’ or ‘heapsort’) of the algorithm used to sort data frame.\n",
    "\n",
    "  6. na_position: Takes two string input ‘last’ or ‘first’ to set position of Null values. Default is ‘last’.\n",
    "\n"
   ]
  },
  {
   "cell_type": "markdown",
   "id": "713455db-3d1c-4d6a-ba19-3be3bc9705fc",
   "metadata": {},
   "source": [
    "__Q23. How do you create a new column in a DataFrame based on the values of another column?__\n",
    "<br>Ans. One can add/append a new column to the DataFrame based on the values of another column using\n",
    "1. df.assign()\n",
    "2. df.apply()\n",
    "3. By directly performing arithmetic operations on existing columns and assign the result as a new column to DataFrame.\n",
    "4. df.map()\n",
    "\n"
   ]
  },
  {
   "cell_type": "markdown",
   "id": "6f4f7a01-d011-4c49-937f-f38455f1a2dc",
   "metadata": {},
   "source": [
    "__Q24. How do you remove duplicates from a DataFrame?__\n",
    "<br>Ans. Pandas drop_duplicates() method helps in removing duplicates from the Pandas Dataframe In Python.\n",
    "\n",
    " __Syntax :__ DataFrame.drop_duplicates(subset=None, keep=’first’, inplace=False)\n",
    "<br>Parameters:\n",
    "\n",
    "  1. subset: Subset takes a column or list of column label. It’s default value is none. After passing columns, it will consider them only for duplicates.\n",
    "\n",
    "  2. keep: keep is to control how to consider duplicate value. It has only three distinct value and default is ‘first’. \n",
    "        - If ‘first‘, it considers first value as unique and rest of the same values as duplicate.\n",
    "        - If ‘last‘, it considers last value as unique and rest of the same values as duplicate.\n",
    "        - If False, it consider all of the same values as duplicates\n",
    "\n",
    "  3. inplace: Boolean values, removes rows with duplicates if True.\n",
    "\n"
   ]
  },
  {
   "cell_type": "code",
   "execution_count": 16,
   "id": "a1167b9a-7456-4967-81cb-44c38e37be62",
   "metadata": {},
   "outputs": [
    {
     "data": {
      "text/html": [
       "<div>\n",
       "<style scoped>\n",
       "    .dataframe tbody tr th:only-of-type {\n",
       "        vertical-align: middle;\n",
       "    }\n",
       "\n",
       "    .dataframe tbody tr th {\n",
       "        vertical-align: top;\n",
       "    }\n",
       "\n",
       "    .dataframe thead th {\n",
       "        text-align: right;\n",
       "    }\n",
       "</style>\n",
       "<table border=\"1\" class=\"dataframe\">\n",
       "  <thead>\n",
       "    <tr style=\"text-align: right;\">\n",
       "      <th></th>\n",
       "      <th>A</th>\n",
       "      <th>B</th>\n",
       "      <th>C</th>\n",
       "    </tr>\n",
       "  </thead>\n",
       "  <tbody>\n",
       "    <tr>\n",
       "      <th>0</th>\n",
       "      <td>TeamA</td>\n",
       "      <td>50</td>\n",
       "      <td>True</td>\n",
       "    </tr>\n",
       "    <tr>\n",
       "      <th>1</th>\n",
       "      <td>TeamB</td>\n",
       "      <td>40</td>\n",
       "      <td>False</td>\n",
       "    </tr>\n",
       "    <tr>\n",
       "      <th>2</th>\n",
       "      <td>TeamB</td>\n",
       "      <td>40</td>\n",
       "      <td>False</td>\n",
       "    </tr>\n",
       "    <tr>\n",
       "      <th>3</th>\n",
       "      <td>TeamC</td>\n",
       "      <td>30</td>\n",
       "      <td>False</td>\n",
       "    </tr>\n",
       "    <tr>\n",
       "      <th>4</th>\n",
       "      <td>TeamA</td>\n",
       "      <td>50</td>\n",
       "      <td>True</td>\n",
       "    </tr>\n",
       "  </tbody>\n",
       "</table>\n",
       "</div>"
      ],
      "text/plain": [
       "       A   B      C\n",
       "0  TeamA  50   True\n",
       "1  TeamB  40  False\n",
       "2  TeamB  40  False\n",
       "3  TeamC  30  False\n",
       "4  TeamA  50   True"
      ]
     },
     "metadata": {},
     "output_type": "display_data"
    },
    {
     "name": "stdout",
     "output_type": "stream",
     "text": [
      "       A   B      C\n",
      "0  TeamA  50   True\n",
      "1  TeamB  40  False\n",
      "3  TeamC  30  False\n"
     ]
    }
   ],
   "source": [
    "data = {\n",
    "    \"A\": [\"TeamA\", \"TeamB\", \"TeamB\", \"TeamC\", \"TeamA\"],\n",
    "    \"B\": [50, 40, 40, 30, 50],\n",
    "    \"C\": [True, False, False, False, True]\n",
    "}\n",
    "df = pd.DataFrame(data)\n",
    "display(df)\n",
    "\n",
    "# duplicate row\n",
    "df2 = df.drop_duplicates()\n",
    "print(df2)"
   ]
  },
  {
   "cell_type": "code",
   "execution_count": 17,
   "id": "8316ddf0-3495-470a-8702-c928a9094864",
   "metadata": {},
   "outputs": [
    {
     "name": "stdout",
     "output_type": "stream",
     "text": [
      "       A   B      C\n",
      "2  TeamB  40  False\n",
      "3  TeamC  30  False\n",
      "4  TeamA  50   True\n"
     ]
    }
   ],
   "source": [
    "# keep last duplicate row\n",
    "df2 = df.drop_duplicates( keep='last')\n",
    "print(df2)"
   ]
  },
  {
   "cell_type": "markdown",
   "id": "c883a9f8-e158-405e-bf48-763e84ca0ff6",
   "metadata": {},
   "source": [
    "__Q25. What is the difference between .loc and .iloc in Pandas?__\n",
    "<br>Ans. They are used for slicing data from the Pandas DataFrame.  They are used in filtering the data according to some conditions. \n",
    "<br>The *.loc()* function is label based data selecting method which means that we have to pass the name of the row or column which we want to select. \n",
    "<br>The *iloc()* function is an indexed-based selecting method which means that we have to pass an integer index in the method to select a specific row/column. \n",
    "<br>*iloc()* does not include the last element of the range passed in it, unlike .loc()"
   ]
  },
  {
   "cell_type": "raw",
   "id": "faf80413-40b5-4627-b75f-3ca81330494a",
   "metadata": {},
   "source": []
  }
 ],
 "metadata": {
  "kernelspec": {
   "display_name": "Python 3 (ipykernel)",
   "language": "python",
   "name": "python3"
  },
  "language_info": {
   "codemirror_mode": {
    "name": "ipython",
    "version": 3
   },
   "file_extension": ".py",
   "mimetype": "text/x-python",
   "name": "python",
   "nbconvert_exporter": "python",
   "pygments_lexer": "ipython3",
   "version": "3.10.6"
  }
 },
 "nbformat": 4,
 "nbformat_minor": 5
}
